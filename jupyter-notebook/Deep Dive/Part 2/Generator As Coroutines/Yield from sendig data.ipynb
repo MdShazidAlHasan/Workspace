{
 "cells": [
  {
   "cell_type": "markdown",
   "id": "3c6f2946",
   "metadata": {},
   "source": [
    "### Yield From  Sending Data"
   ]
  },
  {
   "cell_type": "code",
   "execution_count": 111,
   "id": "a414cec2",
   "metadata": {},
   "outputs": [],
   "source": [
    "from inspect import getgeneratorstate, getgeneratorlocals"
   ]
  },
  {
   "cell_type": "code",
   "execution_count": 120,
   "id": "77ff50bd",
   "metadata": {},
   "outputs": [],
   "source": [
    "def echo():\n",
    "    while True:\n",
    "        recieved = yield \n",
    "        print(recieved[::-1])"
   ]
  },
  {
   "cell_type": "code",
   "execution_count": 121,
   "id": "7dc0ac41",
   "metadata": {},
   "outputs": [],
   "source": [
    "def delegator():\n",
    "    e = echo()\n",
    "    yield from e "
   ]
  },
  {
   "cell_type": "code",
   "execution_count": 122,
   "id": "fa83506e",
   "metadata": {},
   "outputs": [
    {
     "data": {
      "text/plain": [
       "{'e': <generator object echo at 0x7fd5b5ec5740>}"
      ]
     },
     "execution_count": 122,
     "metadata": {},
     "output_type": "execute_result"
    }
   ],
   "source": [
    "d = delegator()\n",
    "next(d)\n",
    "getgeneratorstate(d)\n",
    "getgeneratorlocals(d)\n",
    "# d.send('stressed')\n",
    "# getgeneratorstate(d)"
   ]
  },
  {
   "cell_type": "code",
   "execution_count": 123,
   "id": "0a97d23e",
   "metadata": {},
   "outputs": [],
   "source": [
    "e = getgeneratorlocals(d)['e']"
   ]
  },
  {
   "cell_type": "code",
   "execution_count": 124,
   "id": "6c744221",
   "metadata": {},
   "outputs": [],
   "source": [
    "# print(e)"
   ]
  },
  {
   "cell_type": "code",
   "execution_count": 125,
   "id": "e4016d6b",
   "metadata": {},
   "outputs": [
    {
     "name": "stdout",
     "output_type": "stream",
     "text": [
      "GEN_SUSPENDED\n",
      "GEN_SUSPENDED\n"
     ]
    }
   ],
   "source": [
    "print(getgeneratorstate(d))\n",
    "print(getgeneratorstate(e))"
   ]
  },
  {
   "cell_type": "code",
   "execution_count": 128,
   "id": "f4cedcf9",
   "metadata": {},
   "outputs": [],
   "source": [
    "l = [1, 2, [3, 4, [5, 6]], [7, [8, 9,10]]]"
   ]
  },
  {
   "cell_type": "code",
   "execution_count": 171,
   "id": "a268d27f",
   "metadata": {},
   "outputs": [],
   "source": [
    "def flatten(curr_item):\n",
    "    if isinstance(curr_item, list):\n",
    "        for item in curr_item:\n",
    "             print(item)\n",
    "            flatten(item)\n",
    "    else:\n",
    "        print(curr_item)"
   ]
  },
  {
   "cell_type": "code",
   "execution_count": 173,
   "id": "eda25671",
   "metadata": {},
   "outputs": [],
   "source": [
    "def flatten_gen(curr_item):\n",
    "    if isinstance(curr_item, list):\n",
    "        for item in curr_item:\n",
    "            yield from flatten_gen(item)\n",
    "    else:\n",
    "        yield curr_item\n",
    "        "
   ]
  },
  {
   "cell_type": "code",
   "execution_count": 174,
   "id": "b079b750",
   "metadata": {},
   "outputs": [
    {
     "name": "stdout",
     "output_type": "stream",
     "text": [
      "[1, 2, 3, 4, 5, 6, 7, 8, 9, 10]\n"
     ]
    }
   ],
   "source": [
    "print(list(flatten_gen(l)))"
   ]
  },
  {
   "cell_type": "code",
   "execution_count": 175,
   "id": "f297821b",
   "metadata": {},
   "outputs": [],
   "source": [
    "def is_iterable(item):\n",
    "    try:\n",
    "        iter(item)    \n",
    "    except:\n",
    "        return False\n",
    "    else:\n",
    "        return True"
   ]
  },
  {
   "cell_type": "code",
   "execution_count": 178,
   "id": "8c790a0b",
   "metadata": {},
   "outputs": [],
   "source": [
    "def flatten_gen(curr_item):\n",
    "    if is_iterable(curr_item):\n",
    "        for item in curr_item:\n",
    "            yield from flatten_gen(item) \n",
    "    else:\n",
    "        yield curr_item"
   ]
  },
  {
   "cell_type": "code",
   "execution_count": 179,
   "id": "69e1e20f",
   "metadata": {},
   "outputs": [
    {
     "data": {
      "text/plain": [
       "[1, 2, 3, 4, 5, 6, 7, 8, 9, 10]"
      ]
     },
     "execution_count": 179,
     "metadata": {},
     "output_type": "execute_result"
    }
   ],
   "source": [
    "list(flatten_gen(l))"
   ]
  },
  {
   "cell_type": "code",
   "execution_count": 180,
   "id": "e9e35eb4",
   "metadata": {},
   "outputs": [],
   "source": [
    "p = [1, 2, [3, 4, {5, 6, (7, 8)}, 9]]"
   ]
  },
  {
   "cell_type": "code",
   "execution_count": 182,
   "id": "03ba0c83",
   "metadata": {},
   "outputs": [
    {
     "data": {
      "text/plain": [
       "[1, 2, 3, 4, 7, 8, 5, 6, 9]"
      ]
     },
     "execution_count": 182,
     "metadata": {},
     "output_type": "execute_result"
    }
   ],
   "source": [
    "list(flatten_gen(p))"
   ]
  },
  {
   "cell_type": "code",
   "execution_count": 184,
   "id": "909e381e",
   "metadata": {},
   "outputs": [
    {
     "data": {
      "text/plain": [
       "<str_iterator at 0x7fd5b5028a00>"
      ]
     },
     "execution_count": 184,
     "metadata": {},
     "output_type": "execute_result"
    }
   ],
   "source": [
    "iter('a')"
   ]
  },
  {
   "cell_type": "code",
   "execution_count": null,
   "id": "b357ac3e",
   "metadata": {},
   "outputs": [],
   "source": [
    "Pirate_mini#0200"
   ]
  }
 ],
 "metadata": {
  "kernelspec": {
   "display_name": "Python 3 (ipykernel)",
   "language": "python",
   "name": "python3"
  },
  "language_info": {
   "codemirror_mode": {
    "name": "ipython",
    "version": 3
   },
   "file_extension": ".py",
   "mimetype": "text/x-python",
   "name": "python",
   "nbconvert_exporter": "python",
   "pygments_lexer": "ipython3",
   "version": "3.8.10"
  }
 },
 "nbformat": 4,
 "nbformat_minor": 5
}
