{
 "cells": [
  {
   "cell_type": "markdown",
   "id": "c7a0ac2a",
   "metadata": {},
   "source": [
    "### Yield From - Closing and Returning"
   ]
  },
  {
   "cell_type": "code",
   "execution_count": 63,
   "id": "79b8ee77",
   "metadata": {},
   "outputs": [],
   "source": [
    "def subgen():\n",
    "    try:\n",
    "        while True:\n",
    "            received = yield\n",
    "            print(received)\n",
    "    finally:\n",
    "        print('subgen: closing')"
   ]
  },
  {
   "cell_type": "code",
   "execution_count": 64,
   "id": "cb48aef7",
   "metadata": {},
   "outputs": [],
   "source": [
    "def delegator():\n",
    "    s = subgen()\n",
    "    yield from s\n",
    "    yield 'delegator: subgen closed'\n",
    "    print('delegator: closing')"
   ]
  },
  {
   "cell_type": "code",
   "execution_count": 65,
   "id": "9f127224",
   "metadata": {},
   "outputs": [],
   "source": [
    "d = delegator()"
   ]
  },
  {
   "cell_type": "code",
   "execution_count": 66,
   "id": "1abd3187",
   "metadata": {},
   "outputs": [],
   "source": [
    "next(d)"
   ]
  },
  {
   "cell_type": "code",
   "execution_count": 3,
   "id": "541ba118",
   "metadata": {},
   "outputs": [],
   "source": [
    "from inspect import getgeneratorstate, getgeneratorlocals"
   ]
  },
  {
   "cell_type": "code",
   "execution_count": 68,
   "id": "abdb412b",
   "metadata": {},
   "outputs": [
    {
     "data": {
      "text/plain": [
       "'GEN_SUSPENDED'"
      ]
     },
     "execution_count": 68,
     "metadata": {},
     "output_type": "execute_result"
    }
   ],
   "source": [
    "getgeneratorstate(d)"
   ]
  },
  {
   "cell_type": "code",
   "execution_count": 69,
   "id": "e56bd04e",
   "metadata": {},
   "outputs": [
    {
     "data": {
      "text/plain": [
       "'GEN_SUSPENDED'"
      ]
     },
     "execution_count": 69,
     "metadata": {},
     "output_type": "execute_result"
    }
   ],
   "source": [
    "getgeneratorstate(d)\n",
    "getgeneratorstate(getgeneratorlocals(d)['s'])"
   ]
  },
  {
   "cell_type": "code",
   "execution_count": 70,
   "id": "c9a929ad",
   "metadata": {},
   "outputs": [
    {
     "name": "stdout",
     "output_type": "stream",
     "text": [
      "home\n"
     ]
    }
   ],
   "source": [
    "d.send('home')"
   ]
  },
  {
   "cell_type": "code",
   "execution_count": 71,
   "id": "b0ca1485",
   "metadata": {},
   "outputs": [],
   "source": [
    "s = getgeneratorlocals(d)['s']"
   ]
  },
  {
   "cell_type": "code",
   "execution_count": 72,
   "id": "509ed1d8",
   "metadata": {},
   "outputs": [
    {
     "name": "stdout",
     "output_type": "stream",
     "text": [
      "home\n"
     ]
    }
   ],
   "source": [
    "s.send('home')"
   ]
  },
  {
   "cell_type": "code",
   "execution_count": 73,
   "id": "ee60fb65",
   "metadata": {},
   "outputs": [
    {
     "data": {
      "text/plain": [
       "'GEN_SUSPENDED'"
      ]
     },
     "execution_count": 73,
     "metadata": {},
     "output_type": "execute_result"
    }
   ],
   "source": [
    "getgeneratorstate(s)"
   ]
  },
  {
   "cell_type": "code",
   "execution_count": 60,
   "id": "5ca07a77",
   "metadata": {},
   "outputs": [
    {
     "name": "stdout",
     "output_type": "stream",
     "text": [
      "subgen: closing\n"
     ]
    }
   ],
   "source": [
    "s.close()"
   ]
  },
  {
   "cell_type": "code",
   "execution_count": 74,
   "id": "cb03dbb1",
   "metadata": {},
   "outputs": [
    {
     "data": {
      "text/plain": [
       "'GEN_SUSPENDED'"
      ]
     },
     "execution_count": 74,
     "metadata": {},
     "output_type": "execute_result"
    }
   ],
   "source": [
    "getgeneratorstate(s)"
   ]
  },
  {
   "cell_type": "code",
   "execution_count": 75,
   "id": "14811cfa",
   "metadata": {},
   "outputs": [
    {
     "name": "stdout",
     "output_type": "stream",
     "text": [
      "subgen: closing\n"
     ]
    }
   ],
   "source": [
    "d.close()"
   ]
  },
  {
   "cell_type": "code",
   "execution_count": 77,
   "id": "d2130cc6",
   "metadata": {},
   "outputs": [
    {
     "data": {
      "text/plain": [
       "'GEN_CLOSED'"
      ]
     },
     "execution_count": 77,
     "metadata": {},
     "output_type": "execute_result"
    }
   ],
   "source": [
    "getgeneratorstate(s)"
   ]
  },
  {
   "cell_type": "code",
   "execution_count": 24,
   "id": "0a8d7e76",
   "metadata": {},
   "outputs": [],
   "source": [
    "def subgen():\n",
    "    try:\n",
    "        while True:\n",
    "            received = yield\n",
    "            print(received)\n",
    "    finally:\n",
    "        print('subgen: closing')\n",
    "        return 'subgen: return value'"
   ]
  },
  {
   "cell_type": "code",
   "execution_count": 19,
   "id": "6f069190",
   "metadata": {},
   "outputs": [],
   "source": [
    "# s = subgen()\n",
    "# next(s)"
   ]
  },
  {
   "cell_type": "code",
   "execution_count": 20,
   "id": "6836d413",
   "metadata": {},
   "outputs": [],
   "source": [
    "# getgeneratorstate(s)"
   ]
  },
  {
   "cell_type": "code",
   "execution_count": 21,
   "id": "81f7afa9",
   "metadata": {},
   "outputs": [],
   "source": [
    "# s.send('home')"
   ]
  },
  {
   "cell_type": "code",
   "execution_count": 22,
   "id": "c3c11b3b",
   "metadata": {},
   "outputs": [],
   "source": [
    "# s.close()"
   ]
  },
  {
   "cell_type": "code",
   "execution_count": 25,
   "id": "09e09639",
   "metadata": {},
   "outputs": [],
   "source": [
    "s = subgen()"
   ]
  },
  {
   "cell_type": "code",
   "execution_count": 26,
   "id": "bc664c87",
   "metadata": {},
   "outputs": [],
   "source": [
    "next(s)"
   ]
  },
  {
   "cell_type": "code",
   "execution_count": 28,
   "id": "f61963df",
   "metadata": {},
   "outputs": [
    {
     "name": "stdout",
     "output_type": "stream",
     "text": [
      "home\n"
     ]
    }
   ],
   "source": [
    "s.send('home')"
   ]
  },
  {
   "cell_type": "code",
   "execution_count": 29,
   "id": "2e9c1694",
   "metadata": {},
   "outputs": [
    {
     "name": "stdout",
     "output_type": "stream",
     "text": [
      "None\n"
     ]
    }
   ],
   "source": [
    "next(s)"
   ]
  },
  {
   "cell_type": "code",
   "execution_count": 30,
   "id": "e8335564",
   "metadata": {},
   "outputs": [
    {
     "name": "stdout",
     "output_type": "stream",
     "text": [
      "None\n"
     ]
    }
   ],
   "source": [
    "next(s)"
   ]
  },
  {
   "cell_type": "code",
   "execution_count": 31,
   "id": "a2e81759",
   "metadata": {},
   "outputs": [
    {
     "name": "stdout",
     "output_type": "stream",
     "text": [
      "subgen: closing\n"
     ]
    },
    {
     "ename": "StopIteration",
     "evalue": "subgen: return value",
     "output_type": "error",
     "traceback": [
      "\u001b[0;31m---------------------------------------------------------------------------\u001b[0m",
      "\u001b[0;31mStopIteration\u001b[0m                             Traceback (most recent call last)",
      "\u001b[0;32m/tmp/ipykernel_5177/806692859.py\u001b[0m in \u001b[0;36m<module>\u001b[0;34m\u001b[0m\n\u001b[0;32m----> 1\u001b[0;31m \u001b[0ms\u001b[0m\u001b[0;34m.\u001b[0m\u001b[0mthrow\u001b[0m\u001b[0;34m(\u001b[0m\u001b[0mGeneratorExit\u001b[0m\u001b[0;34m,\u001b[0m \u001b[0;34m'force exited'\u001b[0m\u001b[0;34m)\u001b[0m\u001b[0;34m\u001b[0m\u001b[0;34m\u001b[0m\u001b[0m\n\u001b[0m",
      "\u001b[0;31mStopIteration\u001b[0m: subgen: return value"
     ]
    }
   ],
   "source": [
    "s.throw(GeneratorExit, 'force exited')"
   ]
  },
  {
   "cell_type": "code",
   "execution_count": 32,
   "id": "e717835f",
   "metadata": {},
   "outputs": [
    {
     "name": "stdout",
     "output_type": "stream",
     "text": [
      "subgen: closing\n",
      "subgen: return value\n"
     ]
    }
   ],
   "source": [
    "s = subgen()\n",
    "next(s)\n",
    "try:\n",
    "    s.throw(GeneratorExit, 'force exited')\n",
    "except StopIteration as e:\n",
    "    print(e.value)\n",
    "    "
   ]
  },
  {
   "cell_type": "code",
   "execution_count": 55,
   "id": "b869f6f2",
   "metadata": {},
   "outputs": [],
   "source": [
    "def subgen():\n",
    "    yield 1\n",
    "    yield 2\n",
    "    yield 3 \n",
    "    return \"value\""
   ]
  },
  {
   "cell_type": "code",
   "execution_count": 56,
   "id": "855f419f",
   "metadata": {},
   "outputs": [],
   "source": [
    "s = subgen()"
   ]
  },
  {
   "cell_type": "code",
   "execution_count": 57,
   "id": "c88a34e9",
   "metadata": {},
   "outputs": [
    {
     "data": {
      "text/plain": [
       "1"
      ]
     },
     "execution_count": 57,
     "metadata": {},
     "output_type": "execute_result"
    }
   ],
   "source": [
    "next(s)"
   ]
  },
  {
   "cell_type": "code",
   "execution_count": 59,
   "id": "24ff4b28",
   "metadata": {},
   "outputs": [
    {
     "data": {
      "text/plain": [
       "3"
      ]
     },
     "execution_count": 59,
     "metadata": {},
     "output_type": "execute_result"
    }
   ],
   "source": [
    "next(s)"
   ]
  },
  {
   "cell_type": "code",
   "execution_count": 60,
   "id": "477e8367",
   "metadata": {},
   "outputs": [
    {
     "name": "stdout",
     "output_type": "stream",
     "text": [
      "return value: value\n"
     ]
    }
   ],
   "source": [
    "try:\n",
    "    next(s)\n",
    "except StopIteration as e:\n",
    "    print('return value:', e.value)"
   ]
  },
  {
   "cell_type": "code",
   "execution_count": 61,
   "id": "9627410f",
   "metadata": {},
   "outputs": [],
   "source": [
    "def subgen():\n",
    "    try:\n",
    "        yield 1\n",
    "        yield 2\n",
    "    finally:\n",
    "        print('subgen closing.....')\n",
    "        return 100\n",
    "        "
   ]
  },
  {
   "cell_type": "code",
   "execution_count": 62,
   "id": "052d6fee",
   "metadata": {},
   "outputs": [],
   "source": [
    "def delegator():\n",
    "    s = subgen()\n",
    "    res = yield from s\n",
    "    print('subgen returned:', res)\n",
    "    yield 'delegator suspended'\n",
    "    print('delegator closing.....')"
   ]
  },
  {
   "cell_type": "code",
   "execution_count": 68,
   "id": "eb12a648",
   "metadata": {},
   "outputs": [],
   "source": [
    "d = delegator()"
   ]
  },
  {
   "cell_type": "code",
   "execution_count": 72,
   "id": "cb10ada5",
   "metadata": {},
   "outputs": [
    {
     "name": "stdout",
     "output_type": "stream",
     "text": [
      "delegator closing.....\n"
     ]
    },
    {
     "ename": "StopIteration",
     "evalue": "",
     "output_type": "error",
     "traceback": [
      "\u001b[0;31m---------------------------------------------------------------------------\u001b[0m",
      "\u001b[0;31mStopIteration\u001b[0m                             Traceback (most recent call last)",
      "\u001b[0;32m/tmp/ipykernel_5177/3131910724.py\u001b[0m in \u001b[0;36m<module>\u001b[0;34m\u001b[0m\n\u001b[0;32m----> 1\u001b[0;31m \u001b[0mnext\u001b[0m\u001b[0;34m(\u001b[0m\u001b[0md\u001b[0m\u001b[0;34m)\u001b[0m\u001b[0;34m\u001b[0m\u001b[0;34m\u001b[0m\u001b[0m\n\u001b[0m",
      "\u001b[0;31mStopIteration\u001b[0m: "
     ]
    }
   ],
   "source": [
    "next(d)"
   ]
  },
  {
   "cell_type": "code",
   "execution_count": null,
   "id": "b74270df",
   "metadata": {},
   "outputs": [],
   "source": []
  }
 ],
 "metadata": {
  "kernelspec": {
   "display_name": "Python 3 (ipykernel)",
   "language": "python",
   "name": "python3"
  },
  "language_info": {
   "codemirror_mode": {
    "name": "ipython",
    "version": 3
   },
   "file_extension": ".py",
   "mimetype": "text/x-python",
   "name": "python",
   "nbconvert_exporter": "python",
   "pygments_lexer": "ipython3",
   "version": "3.8.10"
  }
 },
 "nbformat": 4,
 "nbformat_minor": 5
}
