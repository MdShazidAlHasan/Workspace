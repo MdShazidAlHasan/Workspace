{
 "cells": [
  {
   "cell_type": "markdown",
   "id": "35c12a51",
   "metadata": {},
   "source": [
    "### Using Decorators to Prime Coroutines "
   ]
  },
  {
   "cell_type": "code",
   "execution_count": 1,
   "id": "0ed75abf",
   "metadata": {},
   "outputs": [],
   "source": [
    "def coroutines(gen_fn):\n",
    "    def inner():\n",
    "        gen = gen_fn()\n",
    "        next(gen)\n",
    "        return gen\n",
    "    return inner \n"
   ]
  },
  {
   "cell_type": "code",
   "execution_count": 2,
   "id": "9bb7a85d",
   "metadata": {},
   "outputs": [],
   "source": [
    "def echo():\n",
    "    while True:\n",
    "        received = yield \n",
    "        print(received)\n",
    "        "
   ]
  },
  {
   "cell_type": "code",
   "execution_count": 3,
   "id": "d3442130",
   "metadata": {},
   "outputs": [],
   "source": [
    "echo = coroutines(echo)"
   ]
  },
  {
   "cell_type": "code",
   "execution_count": 5,
   "id": "a89030ae",
   "metadata": {},
   "outputs": [],
   "source": [
    "e = echo()"
   ]
  },
  {
   "cell_type": "code",
   "execution_count": 6,
   "id": "bffaa25a",
   "metadata": {},
   "outputs": [
    {
     "data": {
      "text/plain": [
       "'GEN_SUSPENDED'"
      ]
     },
     "execution_count": 6,
     "metadata": {},
     "output_type": "execute_result"
    }
   ],
   "source": [
    "from inspect import getgeneratorstate\n",
    "\n",
    "getgeneratorstate(e)"
   ]
  },
  {
   "cell_type": "code",
   "execution_count": 10,
   "id": "48296df1",
   "metadata": {},
   "outputs": [],
   "source": [
    "def coroutines(gen_fn):\n",
    "    def inner(*args, ** kwagrs):\n",
    "        gen = gen_fn( *args, ** kwagrs)\n",
    "        next(gen)\n",
    "        return gen\n",
    "    return inner \n"
   ]
  },
  {
   "cell_type": "code",
   "execution_count": 14,
   "id": "512c4824",
   "metadata": {},
   "outputs": [],
   "source": [
    "import math \n",
    "\n",
    "@coroutines\n",
    "def power_up(p):\n",
    "    result = None \n",
    "    while True:\n",
    "        recieved = yield result\n",
    "        result = math.pow(recieved, p)"
   ]
  },
  {
   "cell_type": "code",
   "execution_count": 15,
   "id": "3560fef0",
   "metadata": {},
   "outputs": [],
   "source": [
    "squares = power_up(2)\n",
    "cubes = power_up(3)"
   ]
  },
  {
   "cell_type": "code",
   "execution_count": 16,
   "id": "43299199",
   "metadata": {},
   "outputs": [
    {
     "data": {
      "text/plain": [
       "25.0"
      ]
     },
     "execution_count": 16,
     "metadata": {},
     "output_type": "execute_result"
    }
   ],
   "source": [
    "squares.send(5)"
   ]
  },
  {
   "cell_type": "code",
   "execution_count": null,
   "id": "76581af5",
   "metadata": {},
   "outputs": [],
   "source": []
  },
  {
   "cell_type": "code",
   "execution_count": null,
   "id": "2d8b3bad",
   "metadata": {},
   "outputs": [],
   "source": []
  }
 ],
 "metadata": {
  "kernelspec": {
   "display_name": "Python 3 (ipykernel)",
   "language": "python",
   "name": "python3"
  },
  "language_info": {
   "codemirror_mode": {
    "name": "ipython",
    "version": 3
   },
   "file_extension": ".py",
   "mimetype": "text/x-python",
   "name": "python",
   "nbconvert_exporter": "python",
   "pygments_lexer": "ipython3",
   "version": "3.8.10"
  }
 },
 "nbformat": 4,
 "nbformat_minor": 5
}
