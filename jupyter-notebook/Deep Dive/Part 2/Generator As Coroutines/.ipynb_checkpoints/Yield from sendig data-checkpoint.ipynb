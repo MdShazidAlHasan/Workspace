{
 "cells": [
  {
   "cell_type": "markdown",
   "id": "3c6f2946",
   "metadata": {},
   "source": [
    "### Yield From  Sending Data"
   ]
  },
  {
   "cell_type": "code",
   "execution_count": 111,
   "id": "727239c9",
   "metadata": {},
   "outputs": [],
   "source": [
    "from inspect import getgeneratorstate, getgeneratorlocals"
   ]
  },
  {
   "cell_type": "code",
   "execution_count": 120,
   "id": "77ff50bd",
   "metadata": {},
   "outputs": [],
   "source": [
    "def echo():\n",
    "    while True:\n",
    "        recieved = yield \n",
    "        print(recieved[::-1])"
   ]
  },
  {
   "cell_type": "code",
   "execution_count": 121,
   "id": "7dc0ac41",
   "metadata": {},
   "outputs": [],
   "source": [
    "def delegator():\n",
    "    e = echo()\n",
    "    yield from e "
   ]
  },
  {
   "cell_type": "code",
   "execution_count": 122,
   "id": "11f2d2ff",
   "metadata": {},
   "outputs": [
    {
     "data": {
      "text/plain": [
       "{'e': <generator object echo at 0x7fd5b5ec5740>}"
      ]
     },
     "execution_count": 122,
     "metadata": {},
     "output_type": "execute_result"
    }
   ],
   "source": [
    "d = delegator()\n",
    "next(d)\n",
    "getgeneratorstate(d)\n",
    "getgeneratorlocals(d)\n",
    "# d.send('stressed')\n",
    "# getgeneratorstate(d)"
   ]
  },
  {
   "cell_type": "code",
   "execution_count": 123,
   "id": "572f7430",
   "metadata": {},
   "outputs": [],
   "source": [
    "e = getgeneratorlocals(d)['e']"
   ]
  },
  {
   "cell_type": "code",
   "execution_count": 124,
   "id": "931986a1",
   "metadata": {},
   "outputs": [],
   "source": [
    "# print(e)"
   ]
  },
  {
   "cell_type": "code",
   "execution_count": 125,
   "id": "bed830c5",
   "metadata": {},
   "outputs": [
    {
     "name": "stdout",
     "output_type": "stream",
     "text": [
      "GEN_SUSPENDED\n",
      "GEN_SUSPENDED\n"
     ]
    }
   ],
   "source": [
    "print(getgeneratorstate(d))\n",
    "print(getgeneratorstate(e))"
   ]
  },
  {
   "cell_type": "code",
   "execution_count": 128,
   "id": "330f839d",
   "metadata": {},
   "outputs": [],
   "source": [
    "l = [1, 2, [3, 4, [5, 6]], [7, [8, 9,10]]]"
   ]
  },
  {
   "cell_type": "code",
   "execution_count": 135,
   "id": "2d7f25b0",
   "metadata": {},
   "outputs": [],
   "source": [
    "def flatten(curr_item):\n",
    "    if isinstance(curr_item, list):\n",
    "        for item in curr_item:\n",
    "             print(item)\n",
    "            flatten(item)\n",
    "    else:\n",
    "        print(curr_item)"
   ]
  },
  {
   "cell_type": "code",
   "execution_count": 164,
   "id": "fb44f013",
   "metadata": {},
   "outputs": [],
   "source": [
    "def flatten_gen(curr_item):\n",
    "    if isinstance(curr_item, list):\n",
    "        for item in curr_item:\n",
    "            flatten(item)\n",
    "    else:\n",
    "        yield curr_item\n",
    "        "
   ]
  },
  {
   "cell_type": "code",
   "execution_count": 165,
   "id": "89dc0c35",
   "metadata": {},
   "outputs": [
    {
     "data": {
      "text/plain": [
       "<generator object flatten_gen at 0x7fd5b4efd430>"
      ]
     },
     "execution_count": 165,
     "metadata": {},
     "output_type": "execute_result"
    }
   ],
   "source": [
    "flatten_gen(l)"
   ]
  },
  {
   "cell_type": "code",
   "execution_count": 166,
   "id": "b24ff2b5",
   "metadata": {},
   "outputs": [
    {
     "ename": "TypeError",
     "evalue": "flatten() missing 1 required positional argument: 'output'",
     "output_type": "error",
     "traceback": [
      "\u001b[0;31m---------------------------------------------------------------------------\u001b[0m",
      "\u001b[0;31mTypeError\u001b[0m                                 Traceback (most recent call last)",
      "\u001b[0;32m/tmp/ipykernel_6646/3460714445.py\u001b[0m in \u001b[0;36m<module>\u001b[0;34m\u001b[0m\n\u001b[0;32m----> 1\u001b[0;31m \u001b[0mprint\u001b[0m\u001b[0;34m(\u001b[0m\u001b[0mlist\u001b[0m\u001b[0;34m(\u001b[0m\u001b[0mflatten_gen\u001b[0m\u001b[0;34m(\u001b[0m\u001b[0ml\u001b[0m\u001b[0;34m)\u001b[0m\u001b[0;34m)\u001b[0m\u001b[0;34m)\u001b[0m\u001b[0;34m\u001b[0m\u001b[0;34m\u001b[0m\u001b[0m\n\u001b[0m",
      "\u001b[0;32m/tmp/ipykernel_6646/4097946214.py\u001b[0m in \u001b[0;36mflatten_gen\u001b[0;34m(curr_item)\u001b[0m\n\u001b[1;32m      2\u001b[0m     \u001b[0;32mif\u001b[0m \u001b[0misinstance\u001b[0m\u001b[0;34m(\u001b[0m\u001b[0mcurr_item\u001b[0m\u001b[0;34m,\u001b[0m \u001b[0mlist\u001b[0m\u001b[0;34m)\u001b[0m\u001b[0;34m:\u001b[0m\u001b[0;34m\u001b[0m\u001b[0;34m\u001b[0m\u001b[0m\n\u001b[1;32m      3\u001b[0m         \u001b[0;32mfor\u001b[0m \u001b[0mitem\u001b[0m \u001b[0;32min\u001b[0m \u001b[0mcurr_item\u001b[0m\u001b[0;34m:\u001b[0m\u001b[0;34m\u001b[0m\u001b[0;34m\u001b[0m\u001b[0m\n\u001b[0;32m----> 4\u001b[0;31m             \u001b[0mflatten\u001b[0m\u001b[0;34m(\u001b[0m\u001b[0mitem\u001b[0m\u001b[0;34m)\u001b[0m\u001b[0;34m\u001b[0m\u001b[0;34m\u001b[0m\u001b[0m\n\u001b[0m\u001b[1;32m      5\u001b[0m     \u001b[0;32melse\u001b[0m\u001b[0;34m:\u001b[0m\u001b[0;34m\u001b[0m\u001b[0;34m\u001b[0m\u001b[0m\n\u001b[1;32m      6\u001b[0m         \u001b[0;32myield\u001b[0m \u001b[0mcurr_item\u001b[0m\u001b[0;34m\u001b[0m\u001b[0;34m\u001b[0m\u001b[0m\n",
      "\u001b[0;31mTypeError\u001b[0m: flatten() missing 1 required positional argument: 'output'"
     ]
    }
   ],
   "source": [
    "print(list(flatten_gen(l)))"
   ]
  },
  {
   "cell_type": "code",
   "execution_count": null,
   "id": "ab410105",
   "metadata": {},
   "outputs": [],
   "source": []
  }
 ],
 "metadata": {
  "kernelspec": {
   "display_name": "Python 3 (ipykernel)",
   "language": "python",
   "name": "python3"
  },
  "language_info": {
   "codemirror_mode": {
    "name": "ipython",
    "version": 3
   },
   "file_extension": ".py",
   "mimetype": "text/x-python",
   "name": "python",
   "nbconvert_exporter": "python",
   "pygments_lexer": "ipython3",
   "version": "3.8.10"
  }
 },
 "nbformat": 4,
 "nbformat_minor": 5
}
