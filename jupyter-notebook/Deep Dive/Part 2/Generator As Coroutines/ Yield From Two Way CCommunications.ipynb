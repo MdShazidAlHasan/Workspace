{
 "cells": [
  {
   "cell_type": "code",
   "execution_count": 11,
   "id": "f330be44",
   "metadata": {},
   "outputs": [],
   "source": [
    "def squares(n):\n",
    "    for i in range(n):\n",
    "        yield i ** 2 "
   ]
  },
  {
   "cell_type": "code",
   "execution_count": 12,
   "id": "1b342d53",
   "metadata": {},
   "outputs": [],
   "source": [
    "def delegator(n):\n",
    "    for value in squares(n):\n",
    "        yield value "
   ]
  },
  {
   "cell_type": "code",
   "execution_count": 14,
   "id": "228768a6",
   "metadata": {},
   "outputs": [
    {
     "name": "stdout",
     "output_type": "stream",
     "text": [
      "0\n",
      "1\n",
      "4\n",
      "9\n",
      "16\n"
     ]
    }
   ],
   "source": [
    "gen = delegator(5)\n",
    "for _ in range(5):\n",
    "    print(next(gen))"
   ]
  },
  {
   "cell_type": "code",
   "execution_count": 15,
   "id": "975e77cf",
   "metadata": {},
   "outputs": [],
   "source": [
    "def delegator(n):\n",
    "    yield from squares(n) "
   ]
  },
  {
   "cell_type": "code",
   "execution_count": 16,
   "id": "7be9fbaa",
   "metadata": {},
   "outputs": [
    {
     "name": "stdout",
     "output_type": "stream",
     "text": [
      "0\n",
      "1\n",
      "4\n",
      "9\n",
      "16\n"
     ]
    }
   ],
   "source": [
    "gen = delegator(5)\n",
    "for _ in range(5):\n",
    "    print(next(gen))"
   ]
  },
  {
   "cell_type": "code",
   "execution_count": 17,
   "id": "9e8ab8d9",
   "metadata": {},
   "outputs": [],
   "source": [
    "from inspect import getgeneratorstate, getgeneratorlocals"
   ]
  },
  {
   "cell_type": "code",
   "execution_count": 18,
   "id": "c6bea688",
   "metadata": {},
   "outputs": [],
   "source": [
    "def song():\n",
    "    yield \"i am a lumberjack and i am ok\"\n",
    "    yield \"i sleep all night and i work all day \""
   ]
  },
  {
   "cell_type": "code",
   "execution_count": 21,
   "id": "c684038f",
   "metadata": {},
   "outputs": [],
   "source": [
    "def play_song():\n",
    "    count = 0\n",
    "    s = song()\n",
    "    yield from s \n",
    "    yield 'sonfg played '\n",
    "    print('player is exiting...')"
   ]
  },
  {
   "cell_type": "code",
   "execution_count": 25,
   "id": "c9bedfdc",
   "metadata": {},
   "outputs": [],
   "source": [
    "player = play_song()"
   ]
  },
  {
   "cell_type": "code",
   "execution_count": 26,
   "id": "7f8eebff",
   "metadata": {},
   "outputs": [
    {
     "data": {
      "text/plain": [
       "'GEN_CREATED'"
      ]
     },
     "execution_count": 26,
     "metadata": {},
     "output_type": "execute_result"
    }
   ],
   "source": [
    "getgeneratorstate(player)"
   ]
  },
  {
   "cell_type": "code",
   "execution_count": 27,
   "id": "58f3f516",
   "metadata": {},
   "outputs": [
    {
     "name": "stdout",
     "output_type": "stream",
     "text": [
      "{}\n"
     ]
    }
   ],
   "source": [
    "print(getgeneratorlocals(player))"
   ]
  },
  {
   "cell_type": "code",
   "execution_count": 28,
   "id": "fcf3e88a",
   "metadata": {},
   "outputs": [
    {
     "data": {
      "text/plain": [
       "'i am a lumberjack and i am ok'"
      ]
     },
     "execution_count": 28,
     "metadata": {},
     "output_type": "execute_result"
    }
   ],
   "source": [
    "next(player)"
   ]
  },
  {
   "cell_type": "code",
   "execution_count": 29,
   "id": "be206e7a",
   "metadata": {},
   "outputs": [
    {
     "data": {
      "text/plain": [
       "'GEN_SUSPENDED'"
      ]
     },
     "execution_count": 29,
     "metadata": {},
     "output_type": "execute_result"
    }
   ],
   "source": [
    "getgeneratorstate(player)"
   ]
  },
  {
   "cell_type": "code",
   "execution_count": 30,
   "id": "5f4155e8",
   "metadata": {},
   "outputs": [
    {
     "name": "stdout",
     "output_type": "stream",
     "text": [
      "{'count': 0, 's': <generator object song at 0x7f60a1653c80>}\n"
     ]
    }
   ],
   "source": [
    "print(getgeneratorlocals(player))"
   ]
  },
  {
   "cell_type": "code",
   "execution_count": null,
   "id": "92ed0e5e",
   "metadata": {},
   "outputs": [],
   "source": [
    " "
   ]
  }
 ],
 "metadata": {
  "kernelspec": {
   "display_name": "Python 3 (ipykernel)",
   "language": "python",
   "name": "python3"
  },
  "language_info": {
   "codemirror_mode": {
    "name": "ipython",
    "version": 3
   },
   "file_extension": ".py",
   "mimetype": "text/x-python",
   "name": "python",
   "nbconvert_exporter": "python",
   "pygments_lexer": "ipython3",
   "version": "3.8.10"
  }
 },
 "nbformat": 4,
 "nbformat_minor": 5
}
