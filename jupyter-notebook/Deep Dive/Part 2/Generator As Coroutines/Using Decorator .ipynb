{
 "cells": [
  {
   "cell_type": "markdown",
   "id": "e5cfd494",
   "metadata": {},
   "source": [
    "### Using Decorators to Prime Coroutines "
   ]
  },
  {
   "cell_type": "code",
   "execution_count": 1,
   "id": "02d6d85e",
   "metadata": {},
   "outputs": [],
   "source": [
    "def coroutines(gen_fn):\n",
    "    def inner():\n",
    "        gen = gen_fn()\n",
    "        next(gen)\n",
    "        return gen\n",
    "    return inner \n"
   ]
  },
  {
   "cell_type": "code",
   "execution_count": 2,
   "id": "d0aea8dc",
   "metadata": {},
   "outputs": [],
   "source": [
    "def echo():\n",
    "    while True:\n",
    "        received = yield \n",
    "        print(received)\n",
    "        "
   ]
  },
  {
   "cell_type": "code",
   "execution_count": 3,
   "id": "8978d58a",
   "metadata": {},
   "outputs": [],
   "source": [
    "echo = coroutines(echo)"
   ]
  },
  {
   "cell_type": "code",
   "execution_count": 5,
   "id": "6e380a2d",
   "metadata": {},
   "outputs": [],
   "source": [
    "e = echo()"
   ]
  },
  {
   "cell_type": "code",
   "execution_count": 6,
   "id": "b06f19c5",
   "metadata": {},
   "outputs": [
    {
     "data": {
      "text/plain": [
       "'GEN_SUSPENDED'"
      ]
     },
     "execution_count": 6,
     "metadata": {},
     "output_type": "execute_result"
    }
   ],
   "source": [
    "from inspect import getgeneratorstate\n",
    "\n",
    "getgeneratorstate(e)"
   ]
  },
  {
   "cell_type": "code",
   "execution_count": 10,
   "id": "6df5dc37",
   "metadata": {},
   "outputs": [],
   "source": [
    "def coroutines(gen_fn):\n",
    "    def inner(*args, ** kwagrs):\n",
    "        gen = gen_fn( *args, ** kwagrs)\n",
    "        next(gen)\n",
    "        return gen\n",
    "    return inner \n"
   ]
  },
  {
   "cell_type": "code",
   "execution_count": 14,
   "id": "345c6b18",
   "metadata": {},
   "outputs": [],
   "source": [
    "import math \n",
    "\n",
    "@coroutines\n",
    "def power_up(p):\n",
    "    result = None \n",
    "    while True:\n",
    "        recieved = yield result\n",
    "        result = math.pow(recieved, p)"
   ]
  },
  {
   "cell_type": "code",
   "execution_count": 15,
   "id": "0351b0af",
   "metadata": {},
   "outputs": [],
   "source": [
    "squares = power_up(2)\n",
    "cubes = power_up(3)"
   ]
  },
  {
   "cell_type": "code",
   "execution_count": 16,
   "id": "3dcd293f",
   "metadata": {},
   "outputs": [
    {
     "data": {
      "text/plain": [
       "25.0"
      ]
     },
     "execution_count": 16,
     "metadata": {},
     "output_type": "execute_result"
    }
   ],
   "source": [
    "squares.send(5)"
   ]
  },
  {
   "cell_type": "code",
   "execution_count": 18,
   "id": "306acd21",
   "metadata": {},
   "outputs": [
    {
     "data": {
      "text/plain": [
       "729.0"
      ]
     },
     "execution_count": 18,
     "metadata": {},
     "output_type": "execute_result"
    }
   ],
   "source": [
    "cubes.send(9)"
   ]
  },
  {
   "cell_type": "code",
   "execution_count": 24,
   "id": "b5c0d118",
   "metadata": {},
   "outputs": [],
   "source": [
    "@coroutines\n",
    "def power_up(p):\n",
    "    result = None \n",
    "    while True:\n",
    "        recieved = yield result\n",
    "        try:\n",
    "            result = math.pow(recieved, p)\n",
    "        except :\n",
    "            result = None\n",
    "        "
   ]
  },
  {
   "cell_type": "code",
   "execution_count": 25,
   "id": "08ac2ce0",
   "metadata": {},
   "outputs": [],
   "source": [
    "squares = power_up(2)"
   ]
  },
  {
   "cell_type": "code",
   "execution_count": 26,
   "id": "697cc339",
   "metadata": {},
   "outputs": [
    {
     "data": {
      "text/plain": [
       "25.0"
      ]
     },
     "execution_count": 26,
     "metadata": {},
     "output_type": "execute_result"
    }
   ],
   "source": [
    "squares.send(5)"
   ]
  },
  {
   "cell_type": "code",
   "execution_count": 27,
   "id": "602d2a58",
   "metadata": {},
   "outputs": [],
   "source": [
    "squares.send('abc')"
   ]
  },
  {
   "cell_type": "code",
   "execution_count": null,
   "id": "fcf6d756",
   "metadata": {},
   "outputs": [],
   "source": []
  }
 ],
 "metadata": {
  "kernelspec": {
   "display_name": "Python 3 (ipykernel)",
   "language": "python",
   "name": "python3"
  },
  "language_info": {
   "codemirror_mode": {
    "name": "ipython",
    "version": 3
   },
   "file_extension": ".py",
   "mimetype": "text/x-python",
   "name": "python",
   "nbconvert_exporter": "python",
   "pygments_lexer": "ipython3",
   "version": "3.8.10"
  }
 },
 "nbformat": 4,
 "nbformat_minor": 5
}
