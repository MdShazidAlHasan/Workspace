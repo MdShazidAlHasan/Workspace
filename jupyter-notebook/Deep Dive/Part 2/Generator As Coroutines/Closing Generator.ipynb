{
 "cells": [
  {
   "cell_type": "code",
   "execution_count": 1,
   "id": "887121ca",
   "metadata": {},
   "outputs": [],
   "source": [
    "from inspect import getgeneratorstate"
   ]
  },
  {
   "cell_type": "code",
   "execution_count": 7,
   "id": "f299cead",
   "metadata": {},
   "outputs": [],
   "source": [
    "import csv \n",
    "\n",
    "def parse(f_name):\n",
    "    print('opening file')\n",
    "    f = open(f_name, 'r')\n",
    "    try:\n",
    "        dialect = csv.Sniffer().sniff(f.read(2000))\n",
    "        f.seek(0)\n",
    "        reader = csv.reader(f, dialect = dialect)\n",
    "        for row in reader:\n",
    "            yield row\n",
    "            \n",
    "    finally:\n",
    "        print('closing file')\n",
    "        f.close()\n",
    "            "
   ]
  },
  {
   "cell_type": "code",
   "execution_count": 8,
   "id": "566a5619",
   "metadata": {},
   "outputs": [
    {
     "name": "stdout",
     "output_type": "stream",
     "text": [
      "opening file\n",
      "['Car', 'MPG', 'Cylinders', 'Displacement', 'Horsepower', 'Weight', 'Acceleration', 'Model', 'Origin']\n",
      "['Chevrolet Chevelle Malibu', '18.0', '8', '307.0', '130.0', '3504.', '12.0', '70', 'US']\n",
      "['Buick Skylark 320', '15.0', '8', '350.0', '165.0', '3693.', '11.5', '70', 'US']\n",
      "['Plymouth Satellite', '18.0', '8', '318.0', '150.0', '3436.', '11.0', '70', 'US']\n",
      "['AMC Rebel SST', '16.0', '8', '304.0', '150.0', '3433.', '12.0', '70', 'US']\n",
      "['Ford Torino', '17.0', '8', '302.0', '140.0', '3449.', '10.5', '70', 'US']\n",
      "['Ford Galaxie 500', '15.0', '8', '429.0', '198.0', '4341.', '10.0', '70', 'US']\n",
      "['Chevrolet Impala', '14.0', '8', '454.0', '220.0', '4354.', '9.0', '70', 'US']\n",
      "['Plymouth Fury iii', '14.0', '8', '440.0', '215.0', '4312.', '8.5', '70', 'US']\n",
      "['Pontiac Catalina', '14.0', '8', '455.0', '225.0', '4425.', '10.0', '70', 'US']\n"
     ]
    }
   ],
   "source": [
    "import itertools\n",
    "\n",
    "parser = parse('cars.csv')\n",
    "\n",
    "for row in itertools.islice(parser, 10):\n",
    "    print(row)"
   ]
  },
  {
   "cell_type": "code",
   "execution_count": 9,
   "id": "fec1cc53",
   "metadata": {},
   "outputs": [
    {
     "name": "stdout",
     "output_type": "stream",
     "text": [
      "closing file\n"
     ]
    }
   ],
   "source": [
    "parser.close()"
   ]
  },
  {
   "cell_type": "code",
   "execution_count": 10,
   "id": "eadbe2c3",
   "metadata": {},
   "outputs": [],
   "source": [
    "import csv \n",
    "\n",
    "def parse(f_name):\n",
    "    print('opening file')\n",
    "    f = open(f_name, 'r')\n",
    "    try:\n",
    "        dialect = csv.Sniffer().sniff(f.read(2000))\n",
    "        f.seek(0)\n",
    "        next(f) #skip the header row\n",
    "        reader = csv.reader(f, dialect = dialect)\n",
    "        for row in reader:\n",
    "            yield row\n",
    "            \n",
    "    except Exception as e:\n",
    "        print('some exception occured', str(e))\n",
    "    except GeneratorExit:\n",
    "        print('Generator was close')\n",
    "            \n",
    "    finally:\n",
    "        print('closing file')\n",
    "        f.close()"
   ]
  },
  {
   "cell_type": "code",
   "execution_count": 11,
   "id": "fc5b358a",
   "metadata": {},
   "outputs": [
    {
     "name": "stdout",
     "output_type": "stream",
     "text": [
      "opening file\n",
      "['Car', 'MPG', 'Cylinders', 'Displacement', 'Horsepower', 'Weight', 'Acceleration', 'Model', 'Origin']\n",
      "['Chevrolet Chevelle Malibu', '18.0', '8', '307.0', '130.0', '3504.', '12.0', '70', 'US']\n",
      "['Buick Skylark 320', '15.0', '8', '350.0', '165.0', '3693.', '11.5', '70', 'US']\n",
      "['Plymouth Satellite', '18.0', '8', '318.0', '150.0', '3436.', '11.0', '70', 'US']\n",
      "['AMC Rebel SST', '16.0', '8', '304.0', '150.0', '3433.', '12.0', '70', 'US']\n",
      "['Ford Torino', '17.0', '8', '302.0', '140.0', '3449.', '10.5', '70', 'US']\n",
      "['Ford Galaxie 500', '15.0', '8', '429.0', '198.0', '4341.', '10.0', '70', 'US']\n",
      "['Chevrolet Impala', '14.0', '8', '454.0', '220.0', '4354.', '9.0', '70', 'US']\n",
      "['Plymouth Fury iii', '14.0', '8', '440.0', '215.0', '4312.', '8.5', '70', 'US']\n",
      "['Pontiac Catalina', '14.0', '8', '455.0', '225.0', '4425.', '10.0', '70', 'US']\n"
     ]
    }
   ],
   "source": [
    "import itertools\n",
    "\n",
    "parser = parse('cars.csv')\n",
    "\n",
    "for row in itertools.islice(parser, 10):\n",
    "    print(row)"
   ]
  },
  {
   "cell_type": "code",
   "execution_count": 12,
   "id": "97070348",
   "metadata": {},
   "outputs": [
    {
     "name": "stdout",
     "output_type": "stream",
     "text": [
      "Generator was close\n",
      "closing file\n"
     ]
    }
   ],
   "source": [
    "parser.close()"
   ]
  },
  {
   "cell_type": "code",
   "execution_count": 13,
   "id": "16cc115b",
   "metadata": {},
   "outputs": [],
   "source": [
    "def parse(f_name):\n",
    "    print('opening file')\n",
    "    f = open(f_name, 'r')\n",
    "    try:\n",
    "        dialect = csv.Sniffer().sniff(f.read(2000))\n",
    "        f.seek(0)\n",
    "        next(f) #skip the header row\n",
    "        reader = csv.reader(f, dialect = dialect)\n",
    "        for row in reader:\n",
    "            try:\n",
    "                yield row\n",
    "            except GeneratorExit:\n",
    "                print('ignoring call to close generator')\n",
    "            \n",
    "    finally:\n",
    "        print('closing file')\n",
    "        f.close() "
   ]
  },
  {
   "cell_type": "code",
   "execution_count": 14,
   "id": "35ce4f8d",
   "metadata": {},
   "outputs": [
    {
     "name": "stdout",
     "output_type": "stream",
     "text": [
      "opening file\n",
      "['Chevrolet Chevelle Malibu', '18.0', '8', '307.0', '130.0', '3504.', '12.0', '70', 'US']\n",
      "['Buick Skylark 320', '15.0', '8', '350.0', '165.0', '3693.', '11.5', '70', 'US']\n",
      "['Plymouth Satellite', '18.0', '8', '318.0', '150.0', '3436.', '11.0', '70', 'US']\n",
      "['AMC Rebel SST', '16.0', '8', '304.0', '150.0', '3433.', '12.0', '70', 'US']\n",
      "['Ford Torino', '17.0', '8', '302.0', '140.0', '3449.', '10.5', '70', 'US']\n",
      "['Ford Galaxie 500', '15.0', '8', '429.0', '198.0', '4341.', '10.0', '70', 'US']\n",
      "['Chevrolet Impala', '14.0', '8', '454.0', '220.0', '4354.', '9.0', '70', 'US']\n",
      "['Plymouth Fury iii', '14.0', '8', '440.0', '215.0', '4312.', '8.5', '70', 'US']\n",
      "['Pontiac Catalina', '14.0', '8', '455.0', '225.0', '4425.', '10.0', '70', 'US']\n",
      "['AMC Ambassador DPL', '15.0', '8', '390.0', '190.0', '3850.', '8.5', '70', 'US']\n"
     ]
    }
   ],
   "source": [
    "import itertools\n",
    "\n",
    "parser = parse('cars.csv')\n",
    "\n",
    "for row in itertools.islice(parser, 10):\n",
    "    print(row)"
   ]
  },
  {
   "cell_type": "code",
   "execution_count": 15,
   "id": "186d4cbe",
   "metadata": {},
   "outputs": [
    {
     "name": "stdout",
     "output_type": "stream",
     "text": [
      "ignoring call to close generator\n"
     ]
    },
    {
     "ename": "RuntimeError",
     "evalue": "generator ignored GeneratorExit",
     "output_type": "error",
     "traceback": [
      "\u001b[0;31m---------------------------------------------------------------------------\u001b[0m",
      "\u001b[0;31mRuntimeError\u001b[0m                              Traceback (most recent call last)",
      "\u001b[0;32m/tmp/ipykernel_5313/2382162297.py\u001b[0m in \u001b[0;36m<module>\u001b[0;34m\u001b[0m\n\u001b[0;32m----> 1\u001b[0;31m \u001b[0mparser\u001b[0m\u001b[0;34m.\u001b[0m\u001b[0mclose\u001b[0m\u001b[0;34m(\u001b[0m\u001b[0;34m)\u001b[0m\u001b[0;34m\u001b[0m\u001b[0;34m\u001b[0m\u001b[0m\n\u001b[0m",
      "\u001b[0;31mRuntimeError\u001b[0m: generator ignored GeneratorExit"
     ]
    }
   ],
   "source": [
    "parser.close()"
   ]
  },
  {
   "cell_type": "code",
   "execution_count": 17,
   "id": "1bdc2e8f",
   "metadata": {},
   "outputs": [],
   "source": [
    "def parse(f_name):\n",
    "    print('opening file')\n",
    "    f = open(f_name, 'r')\n",
    "    try:\n",
    "        dialect = csv.Sniffer().sniff(f.read(2000))\n",
    "        f.seek(0)\n",
    "        next(f) #skip the header row\n",
    "        reader = csv.reader(f, dialect = dialect)\n",
    "        for row in reader:\n",
    "            try:\n",
    "                yield row\n",
    "            except GeneratorExit:\n",
    "                print('ignoring call to close generator')\n",
    "                raise\n",
    "            \n",
    "    finally:\n",
    "        print('closing file')\n",
    "        f.close() "
   ]
  },
  {
   "cell_type": "code",
   "execution_count": 18,
   "id": "28d90f49",
   "metadata": {},
   "outputs": [
    {
     "name": "stdout",
     "output_type": "stream",
     "text": [
      "opening file\n",
      "['Chevrolet Chevelle Malibu', '18.0', '8', '307.0', '130.0', '3504.', '12.0', '70', 'US']\n",
      "['Buick Skylark 320', '15.0', '8', '350.0', '165.0', '3693.', '11.5', '70', 'US']\n",
      "['Plymouth Satellite', '18.0', '8', '318.0', '150.0', '3436.', '11.0', '70', 'US']\n",
      "['AMC Rebel SST', '16.0', '8', '304.0', '150.0', '3433.', '12.0', '70', 'US']\n",
      "['Ford Torino', '17.0', '8', '302.0', '140.0', '3449.', '10.5', '70', 'US']\n",
      "['Ford Galaxie 500', '15.0', '8', '429.0', '198.0', '4341.', '10.0', '70', 'US']\n",
      "['Chevrolet Impala', '14.0', '8', '454.0', '220.0', '4354.', '9.0', '70', 'US']\n",
      "['Plymouth Fury iii', '14.0', '8', '440.0', '215.0', '4312.', '8.5', '70', 'US']\n",
      "['Pontiac Catalina', '14.0', '8', '455.0', '225.0', '4425.', '10.0', '70', 'US']\n",
      "['AMC Ambassador DPL', '15.0', '8', '390.0', '190.0', '3850.', '8.5', '70', 'US']\n"
     ]
    }
   ],
   "source": [
    "import itertools\n",
    "\n",
    "parser = parse('cars.csv')\n",
    "\n",
    "for row in itertools.islice(parser, 10):\n",
    "    print(row)"
   ]
  },
  {
   "cell_type": "code",
   "execution_count": 19,
   "id": "ef8606ff",
   "metadata": {},
   "outputs": [
    {
     "name": "stdout",
     "output_type": "stream",
     "text": [
      "ignoring call to close generator\n",
      "closing file\n"
     ]
    }
   ],
   "source": [
    "parser.close()"
   ]
  },
  {
   "cell_type": "code",
   "execution_count": 22,
   "id": "ea8d854b",
   "metadata": {},
   "outputs": [],
   "source": [
    "def parse(f_name):\n",
    "    print('opening file')\n",
    "    f = open(f_name, 'r')\n",
    "    try:\n",
    "        dialect = csv.Sniffer().sniff(f.read(2000))\n",
    "        f.seek(0)\n",
    "        next(f) #skip the header row\n",
    "        reader = csv.reader(f, dialect = dialect)\n",
    "        for row in reader:\n",
    "            try:\n",
    "                yield row\n",
    "            except GeneratorExit:\n",
    "                print('ignoring call to close generator')\n",
    "                return\n",
    "            \n",
    "    finally:\n",
    "        print('closing file')\n",
    "        f.close() "
   ]
  },
  {
   "cell_type": "code",
   "execution_count": 23,
   "id": "bbbbe1fb",
   "metadata": {},
   "outputs": [
    {
     "name": "stdout",
     "output_type": "stream",
     "text": [
      "opening file\n",
      "['Chevrolet Chevelle Malibu', '18.0', '8', '307.0', '130.0', '3504.', '12.0', '70', 'US']\n",
      "['Buick Skylark 320', '15.0', '8', '350.0', '165.0', '3693.', '11.5', '70', 'US']\n",
      "['Plymouth Satellite', '18.0', '8', '318.0', '150.0', '3436.', '11.0', '70', 'US']\n",
      "['AMC Rebel SST', '16.0', '8', '304.0', '150.0', '3433.', '12.0', '70', 'US']\n",
      "['Ford Torino', '17.0', '8', '302.0', '140.0', '3449.', '10.5', '70', 'US']\n",
      "['Ford Galaxie 500', '15.0', '8', '429.0', '198.0', '4341.', '10.0', '70', 'US']\n",
      "['Chevrolet Impala', '14.0', '8', '454.0', '220.0', '4354.', '9.0', '70', 'US']\n",
      "['Plymouth Fury iii', '14.0', '8', '440.0', '215.0', '4312.', '8.5', '70', 'US']\n",
      "['Pontiac Catalina', '14.0', '8', '455.0', '225.0', '4425.', '10.0', '70', 'US']\n",
      "['AMC Ambassador DPL', '15.0', '8', '390.0', '190.0', '3850.', '8.5', '70', 'US']\n"
     ]
    }
   ],
   "source": [
    "import itertools\n",
    "\n",
    "parser = parse('cars.csv')\n",
    "\n",
    "for row in itertools.islice(parser, 10):\n",
    "    print(row)"
   ]
  },
  {
   "cell_type": "code",
   "execution_count": 24,
   "id": "5044007b",
   "metadata": {},
   "outputs": [
    {
     "name": "stdout",
     "output_type": "stream",
     "text": [
      "ignoring call to close generator\n",
      "closing file\n"
     ]
    }
   ],
   "source": [
    "parser.close()"
   ]
  },
  {
   "cell_type": "code",
   "execution_count": 32,
   "id": "528591a9",
   "metadata": {},
   "outputs": [],
   "source": [
    " def parse(f_name):\n",
    "    print('opening file')\n",
    "    f = open(f_name, 'r')\n",
    "    try:\n",
    "        dialect = csv.Sniffer().sniff(f.read(2000))\n",
    "        f.seek(0)\n",
    "        next(f) #skip the header row\n",
    "        reader = csv.reader(f, dialect = dialect)\n",
    "        for row in reader:\n",
    "            try:\n",
    "                yield row\n",
    "            except GeneratorExit:\n",
    "                print('ignoring call to close generator')\n",
    "                raise Exception('this is a different exception?') \n",
    "            \n",
    "    finally:\n",
    "        print('closing file')\n",
    "        f.close() "
   ]
  },
  {
   "cell_type": "code",
   "execution_count": 33,
   "id": "a02dcaa0",
   "metadata": {},
   "outputs": [
    {
     "name": "stdout",
     "output_type": "stream",
     "text": [
      "opening file\n",
      "['Chevrolet Chevelle Malibu', '18.0', '8', '307.0', '130.0', '3504.', '12.0', '70', 'US']\n",
      "['Buick Skylark 320', '15.0', '8', '350.0', '165.0', '3693.', '11.5', '70', 'US']\n",
      "['Plymouth Satellite', '18.0', '8', '318.0', '150.0', '3436.', '11.0', '70', 'US']\n",
      "['AMC Rebel SST', '16.0', '8', '304.0', '150.0', '3433.', '12.0', '70', 'US']\n",
      "['Ford Torino', '17.0', '8', '302.0', '140.0', '3449.', '10.5', '70', 'US']\n",
      "['Ford Galaxie 500', '15.0', '8', '429.0', '198.0', '4341.', '10.0', '70', 'US']\n",
      "['Chevrolet Impala', '14.0', '8', '454.0', '220.0', '4354.', '9.0', '70', 'US']\n",
      "['Plymouth Fury iii', '14.0', '8', '440.0', '215.0', '4312.', '8.5', '70', 'US']\n",
      "['Pontiac Catalina', '14.0', '8', '455.0', '225.0', '4425.', '10.0', '70', 'US']\n",
      "['AMC Ambassador DPL', '15.0', '8', '390.0', '190.0', '3850.', '8.5', '70', 'US']\n"
     ]
    }
   ],
   "source": [
    "import itertools\n",
    "\n",
    "parser = parse('cars.csv')\n",
    "\n",
    "for row in itertools.islice(parser, 10):\n",
    "    print(row)"
   ]
  },
  {
   "cell_type": "code",
   "execution_count": 34,
   "id": "062b333f",
   "metadata": {},
   "outputs": [
    {
     "name": "stdout",
     "output_type": "stream",
     "text": [
      "ignoring call to close generator\n",
      "closing file\n"
     ]
    },
    {
     "ename": "Exception",
     "evalue": "this is a different exception?",
     "output_type": "error",
     "traceback": [
      "\u001b[0;31m---------------------------------------------------------------------------\u001b[0m",
      "\u001b[0;31mGeneratorExit\u001b[0m                             Traceback (most recent call last)",
      "\u001b[0;32m/tmp/ipykernel_5313/2301588163.py\u001b[0m in \u001b[0;36mparse\u001b[0;34m(f_name)\u001b[0m\n\u001b[1;32m     10\u001b[0m            \u001b[0;32mtry\u001b[0m\u001b[0;34m:\u001b[0m\u001b[0;34m\u001b[0m\u001b[0;34m\u001b[0m\u001b[0m\n\u001b[0;32m---> 11\u001b[0;31m                \u001b[0;32myield\u001b[0m \u001b[0mrow\u001b[0m\u001b[0;34m\u001b[0m\u001b[0;34m\u001b[0m\u001b[0m\n\u001b[0m\u001b[1;32m     12\u001b[0m            \u001b[0;32mexcept\u001b[0m \u001b[0mGeneratorExit\u001b[0m\u001b[0;34m:\u001b[0m\u001b[0;34m\u001b[0m\u001b[0;34m\u001b[0m\u001b[0m\n",
      "\u001b[0;31mGeneratorExit\u001b[0m: ",
      "\nDuring handling of the above exception, another exception occurred:\n",
      "\u001b[0;31mException\u001b[0m                                 Traceback (most recent call last)",
      "\u001b[0;32m/tmp/ipykernel_5313/2382162297.py\u001b[0m in \u001b[0;36m<module>\u001b[0;34m\u001b[0m\n\u001b[0;32m----> 1\u001b[0;31m \u001b[0mparser\u001b[0m\u001b[0;34m.\u001b[0m\u001b[0mclose\u001b[0m\u001b[0;34m(\u001b[0m\u001b[0;34m)\u001b[0m\u001b[0;34m\u001b[0m\u001b[0;34m\u001b[0m\u001b[0m\n\u001b[0m",
      "\u001b[0;32m/tmp/ipykernel_5313/2301588163.py\u001b[0m in \u001b[0;36mparse\u001b[0;34m(f_name)\u001b[0m\n\u001b[1;32m     12\u001b[0m            \u001b[0;32mexcept\u001b[0m \u001b[0mGeneratorExit\u001b[0m\u001b[0;34m:\u001b[0m\u001b[0;34m\u001b[0m\u001b[0;34m\u001b[0m\u001b[0m\n\u001b[1;32m     13\u001b[0m                \u001b[0mprint\u001b[0m\u001b[0;34m(\u001b[0m\u001b[0;34m'ignoring call to close generator'\u001b[0m\u001b[0;34m)\u001b[0m\u001b[0;34m\u001b[0m\u001b[0;34m\u001b[0m\u001b[0m\n\u001b[0;32m---> 14\u001b[0;31m                \u001b[0;32mraise\u001b[0m \u001b[0mException\u001b[0m\u001b[0;34m(\u001b[0m\u001b[0;34m'this is a different exception?'\u001b[0m\u001b[0;34m)\u001b[0m\u001b[0;34m\u001b[0m\u001b[0;34m\u001b[0m\u001b[0m\n\u001b[0m\u001b[1;32m     15\u001b[0m \u001b[0;34m\u001b[0m\u001b[0m\n\u001b[1;32m     16\u001b[0m    \u001b[0;32mfinally\u001b[0m\u001b[0;34m:\u001b[0m\u001b[0;34m\u001b[0m\u001b[0;34m\u001b[0m\u001b[0m\n",
      "\u001b[0;31mException\u001b[0m: this is a different exception?"
     ]
    }
   ],
   "source": [
    "parser.close()"
   ]
  },
  {
   "cell_type": "code",
   "execution_count": 35,
   "id": "53f70a87",
   "metadata": {},
   "outputs": [],
   "source": [
    "def save_to_db():\n",
    "    print('starting new transaction')\n",
    "    while True:\n",
    "        try:\n",
    "            data = yield\n",
    "            print('sending data to database')\n",
    "        except GeneratorExit:\n",
    "            print('committing transaction')\n",
    "            raise"
   ]
  },
  {
   "cell_type": "code",
   "execution_count": 36,
   "id": "5565fe7c",
   "metadata": {},
   "outputs": [],
   "source": [
    "trans = save_to_db()"
   ]
  },
  {
   "cell_type": "code",
   "execution_count": 37,
   "id": "d5e15ab9",
   "metadata": {},
   "outputs": [
    {
     "name": "stdout",
     "output_type": "stream",
     "text": [
      "starting new transaction\n"
     ]
    }
   ],
   "source": [
    "next(trans)"
   ]
  },
  {
   "cell_type": "code",
   "execution_count": 38,
   "id": "a9babeec",
   "metadata": {},
   "outputs": [
    {
     "name": "stdout",
     "output_type": "stream",
     "text": [
      "sending data to database\n"
     ]
    }
   ],
   "source": [
    "trans.send('data 1')"
   ]
  },
  {
   "cell_type": "code",
   "execution_count": 39,
   "id": "12850e69",
   "metadata": {},
   "outputs": [
    {
     "name": "stdout",
     "output_type": "stream",
     "text": [
      "sending data to database\n"
     ]
    }
   ],
   "source": [
    "trans.send('data 2')"
   ]
  },
  {
   "cell_type": "code",
   "execution_count": 40,
   "id": "632aa148",
   "metadata": {},
   "outputs": [
    {
     "name": "stdout",
     "output_type": "stream",
     "text": [
      "sending data to database\n"
     ]
    }
   ],
   "source": [
    "trans.send('data 3')"
   ]
  },
  {
   "cell_type": "code",
   "execution_count": 41,
   "id": "63d0764f",
   "metadata": {},
   "outputs": [
    {
     "name": "stdout",
     "output_type": "stream",
     "text": [
      "committing transaction\n"
     ]
    }
   ],
   "source": [
    "trans.close()"
   ]
  },
  {
   "cell_type": "code",
   "execution_count": 47,
   "id": "a8c00833",
   "metadata": {},
   "outputs": [],
   "source": [
    "def save_to_db():\n",
    "    print('starting new transaction')\n",
    "    while True:\n",
    "        try:\n",
    "            data = yield\n",
    "            print('sending data to database', eval(data))\n",
    "        \n",
    "        except Exception:\n",
    "            print('aborting transaction')\n",
    "        \n",
    "        except GeneratorExit:\n",
    "            print('committing transaction')\n",
    "            raise"
   ]
  },
  {
   "cell_type": "code",
   "execution_count": 48,
   "id": "9c756c09",
   "metadata": {},
   "outputs": [],
   "source": [
    "trans = save_to_db()"
   ]
  },
  {
   "cell_type": "code",
   "execution_count": 49,
   "id": "294b01fb",
   "metadata": {},
   "outputs": [
    {
     "name": "stdout",
     "output_type": "stream",
     "text": [
      "starting new transaction\n"
     ]
    }
   ],
   "source": [
    "next(trans)"
   ]
  },
  {
   "cell_type": "code",
   "execution_count": 50,
   "id": "30042112",
   "metadata": {},
   "outputs": [
    {
     "name": "stdout",
     "output_type": "stream",
     "text": [
      "sending data to database 11\n"
     ]
    }
   ],
   "source": [
    "trans.send('1 + 10')"
   ]
  },
  {
   "cell_type": "code",
   "execution_count": 51,
   "id": "76b842af",
   "metadata": {},
   "outputs": [
    {
     "name": "stdout",
     "output_type": "stream",
     "text": [
      "aborting transaction\n"
     ]
    }
   ],
   "source": [
    "trans.send('2 + \"a\"')"
   ]
  },
  {
   "cell_type": "code",
   "execution_count": 52,
   "id": "933a7c2e",
   "metadata": {},
   "outputs": [],
   "source": [
    "from inspect import getgeneratorstate"
   ]
  },
  {
   "cell_type": "code",
   "execution_count": 54,
   "id": "646b19ff",
   "metadata": {},
   "outputs": [
    {
     "name": "stdout",
     "output_type": "stream",
     "text": [
      "committing transaction\n"
     ]
    }
   ],
   "source": [
    "trans.close()"
   ]
  },
  {
   "cell_type": "code",
   "execution_count": 55,
   "id": "1f737b69",
   "metadata": {},
   "outputs": [
    {
     "data": {
      "text/plain": [
       "'GEN_CLOSED'"
      ]
     },
     "execution_count": 55,
     "metadata": {},
     "output_type": "execute_result"
    }
   ],
   "source": [
    "getgeneratorstate(trans)"
   ]
  },
  {
   "cell_type": "code",
   "execution_count": null,
   "id": "1d2a75d7",
   "metadata": {},
   "outputs": [],
   "source": []
  }
 ],
 "metadata": {
  "kernelspec": {
   "display_name": "Python 3 (ipykernel)",
   "language": "python",
   "name": "python3"
  },
  "language_info": {
   "codemirror_mode": {
    "name": "ipython",
    "version": 3
   },
   "file_extension": ".py",
   "mimetype": "text/x-python",
   "name": "python",
   "nbconvert_exporter": "python",
   "pygments_lexer": "ipython3",
   "version": "3.8.10"
  }
 },
 "nbformat": 4,
 "nbformat_minor": 5
}
