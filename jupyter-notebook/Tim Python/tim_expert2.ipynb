{
 "cells": [
  {
   "cell_type": "code",
   "execution_count": 1,
   "id": "5af8f4db",
   "metadata": {},
   "outputs": [],
   "source": [
    "x = [1, 2, 3]\n",
    "y = [4, 5]"
   ]
  },
  {
   "cell_type": "code",
   "execution_count": 2,
   "id": "7f0811e7",
   "metadata": {},
   "outputs": [
    {
     "name": "stdout",
     "output_type": "stream",
     "text": [
      "<class 'list'>\n"
     ]
    }
   ],
   "source": [
    "print(type(x))"
   ]
  },
  {
   "cell_type": "code",
   "execution_count": 3,
   "id": "84c3c796",
   "metadata": {},
   "outputs": [],
   "source": [
    "import inspect"
   ]
  },
  {
   "cell_type": "code",
   "execution_count": 80,
   "id": "f73a6f08",
   "metadata": {},
   "outputs": [],
   "source": [
    "class Person:\n",
    "    def __init__(self, name):\n",
    "        self.name = name\n",
    "    \n",
    "    def __repr__(self):\n",
    "        return f'Person({self.name})'\n",
    "    \n",
    "    def __mul__(self, x):\n",
    "        if type(x) != int:\n",
    "            raise Exception('Invalid argument')\n",
    "        return self.name * x\n",
    "    \n",
    "    def __call__(self, y):\n",
    "        print('Called this function with', y)\n",
    "    \n",
    "    def __len__(self):\n",
    "        return len(self.name)\n",
    "    "
   ]
  },
  {
   "cell_type": "code",
   "execution_count": 81,
   "id": "f2f059d5",
   "metadata": {},
   "outputs": [
    {
     "name": "stdout",
     "output_type": "stream",
     "text": [
      "Person(tim)\n"
     ]
    }
   ],
   "source": [
    "p = Person('tim')\n",
    "print(p)"
   ]
  },
  {
   "cell_type": "code",
   "execution_count": null,
   "id": "c460daff",
   "metadata": {},
   "outputs": [],
   "source": []
  },
  {
   "cell_type": "code",
   "execution_count": 17,
   "id": "5a755b73",
   "metadata": {},
   "outputs": [
    {
     "data": {
      "text/plain": [
       "'timtimtim'"
      ]
     },
     "execution_count": 17,
     "metadata": {},
     "output_type": "execute_result"
    }
   ],
   "source": [
    "p*3"
   ]
  },
  {
   "cell_type": "code",
   "execution_count": 18,
   "id": "f7ae1c2d",
   "metadata": {},
   "outputs": [
    {
     "name": "stdout",
     "output_type": "stream",
     "text": [
      "Called this function with 10\n"
     ]
    }
   ],
   "source": [
    "p(10)"
   ]
  },
  {
   "cell_type": "code",
   "execution_count": 19,
   "id": "17bd8c31",
   "metadata": {},
   "outputs": [
    {
     "data": {
      "text/plain": [
       "3"
      ]
     },
     "execution_count": 19,
     "metadata": {},
     "output_type": "execute_result"
    }
   ],
   "source": [
    "len(p)"
   ]
  },
  {
   "cell_type": "code",
   "execution_count": 90,
   "id": "ac9d83c2",
   "metadata": {},
   "outputs": [],
   "source": [
    "from queue import Queue as p\n",
    "import inspect\n",
    "#print(inspect.getsource(p))\n",
    "\n",
    "class Queue(p):\n",
    "    def __repr__(self):\n",
    "        return f'Queue({self._qsize()})'\n",
    "    \n",
    "    def __add__(self, x):\n",
    "        return self.put(x)\n",
    "    \n",
    "    def __sub__(self, x):\n",
    "        self.get()\n",
    "\n"
   ]
  },
  {
   "cell_type": "code",
   "execution_count": 92,
   "id": "e63b1cc8",
   "metadata": {},
   "outputs": [
    {
     "name": "stdout",
     "output_type": "stream",
     "text": [
      "Queue(0)\n",
      "'None'\n",
      "None\n"
     ]
    }
   ],
   "source": [
    "qu = Queue()  \n",
    "print(qu)\n",
    "print( qu + 9)\n",
    "print(qu+6)"
   ]
  },
  {
   "cell_type": "code",
   "execution_count": 85,
   "id": "1316f134",
   "metadata": {},
   "outputs": [
    {
     "name": "stdout",
     "output_type": "stream",
     "text": [
      "Queue(1)\n"
     ]
    }
   ],
   "source": [
    "print(qu)"
   ]
  },
  {
   "cell_type": "code",
   "execution_count": 46,
   "id": "768622f1",
   "metadata": {},
   "outputs": [
    {
     "name": "stdout",
     "output_type": "stream",
     "text": [
      "class Queue:\n",
      "    '''Create a queue object with a given maximum size.\n",
      "\n",
      "    If maxsize is <= 0, the queue size is infinite.\n",
      "    '''\n",
      "\n",
      "    def __init__(self, maxsize=0):\n",
      "        self.maxsize = maxsize\n",
      "        self._init(maxsize)\n",
      "\n",
      "        # mutex must be held whenever the queue is mutating.  All methods\n",
      "        # that acquire mutex must release it before returning.  mutex\n",
      "        # is shared between the three conditions, so acquiring and\n",
      "        # releasing the conditions also acquires and releases mutex.\n",
      "        self.mutex = threading.Lock()\n",
      "\n",
      "        # Notify not_empty whenever an item is added to the queue; a\n",
      "        # thread waiting to get is notified then.\n",
      "        self.not_empty = threading.Condition(self.mutex)\n",
      "\n",
      "        # Notify not_full whenever an item is removed from the queue;\n",
      "        # a thread waiting to put is notified then.\n",
      "        self.not_full = threading.Condition(self.mutex)\n",
      "\n",
      "        # Notify all_tasks_done whenever the number of unfinished tasks\n",
      "        # drops to zero; thread waiting to join() is notified to resume\n",
      "        self.all_tasks_done = threading.Condition(self.mutex)\n",
      "        self.unfinished_tasks = 0\n",
      "\n",
      "    def task_done(self):\n",
      "        '''Indicate that a formerly enqueued task is complete.\n",
      "\n",
      "        Used by Queue consumer threads.  For each get() used to fetch a task,\n",
      "        a subsequent call to task_done() tells the queue that the processing\n",
      "        on the task is complete.\n",
      "\n",
      "        If a join() is currently blocking, it will resume when all items\n",
      "        have been processed (meaning that a task_done() call was received\n",
      "        for every item that had been put() into the queue).\n",
      "\n",
      "        Raises a ValueError if called more times than there were items\n",
      "        placed in the queue.\n",
      "        '''\n",
      "        with self.all_tasks_done:\n",
      "            unfinished = self.unfinished_tasks - 1\n",
      "            if unfinished <= 0:\n",
      "                if unfinished < 0:\n",
      "                    raise ValueError('task_done() called too many times')\n",
      "                self.all_tasks_done.notify_all()\n",
      "            self.unfinished_tasks = unfinished\n",
      "\n",
      "    def join(self):\n",
      "        '''Blocks until all items in the Queue have been gotten and processed.\n",
      "\n",
      "        The count of unfinished tasks goes up whenever an item is added to the\n",
      "        queue. The count goes down whenever a consumer thread calls task_done()\n",
      "        to indicate the item was retrieved and all work on it is complete.\n",
      "\n",
      "        When the count of unfinished tasks drops to zero, join() unblocks.\n",
      "        '''\n",
      "        with self.all_tasks_done:\n",
      "            while self.unfinished_tasks:\n",
      "                self.all_tasks_done.wait()\n",
      "\n",
      "    def qsize(self):\n",
      "        '''Return the approximate size of the queue (not reliable!).'''\n",
      "        with self.mutex:\n",
      "            return self._qsize()\n",
      "\n",
      "    def empty(self):\n",
      "        '''Return True if the queue is empty, False otherwise (not reliable!).\n",
      "\n",
      "        This method is likely to be removed at some point.  Use qsize() == 0\n",
      "        as a direct substitute, but be aware that either approach risks a race\n",
      "        condition where a queue can grow before the result of empty() or\n",
      "        qsize() can be used.\n",
      "\n",
      "        To create code that needs to wait for all queued tasks to be\n",
      "        completed, the preferred technique is to use the join() method.\n",
      "        '''\n",
      "        with self.mutex:\n",
      "            return not self._qsize()\n",
      "\n",
      "    def full(self):\n",
      "        '''Return True if the queue is full, False otherwise (not reliable!).\n",
      "\n",
      "        This method is likely to be removed at some point.  Use qsize() >= n\n",
      "        as a direct substitute, but be aware that either approach risks a race\n",
      "        condition where a queue can shrink before the result of full() or\n",
      "        qsize() can be used.\n",
      "        '''\n",
      "        with self.mutex:\n",
      "            return 0 < self.maxsize <= self._qsize()\n",
      "\n",
      "    def put(self, item, block=True, timeout=None):\n",
      "        '''Put an item into the queue.\n",
      "\n",
      "        If optional args 'block' is true and 'timeout' is None (the default),\n",
      "        block if necessary until a free slot is available. If 'timeout' is\n",
      "        a non-negative number, it blocks at most 'timeout' seconds and raises\n",
      "        the Full exception if no free slot was available within that time.\n",
      "        Otherwise ('block' is false), put an item on the queue if a free slot\n",
      "        is immediately available, else raise the Full exception ('timeout'\n",
      "        is ignored in that case).\n",
      "        '''\n",
      "        with self.not_full:\n",
      "            if self.maxsize > 0:\n",
      "                if not block:\n",
      "                    if self._qsize() >= self.maxsize:\n",
      "                        raise Full\n",
      "                elif timeout is None:\n",
      "                    while self._qsize() >= self.maxsize:\n",
      "                        self.not_full.wait()\n",
      "                elif timeout < 0:\n",
      "                    raise ValueError(\"'timeout' must be a non-negative number\")\n",
      "                else:\n",
      "                    endtime = time() + timeout\n",
      "                    while self._qsize() >= self.maxsize:\n",
      "                        remaining = endtime - time()\n",
      "                        if remaining <= 0.0:\n",
      "                            raise Full\n",
      "                        self.not_full.wait(remaining)\n",
      "            self._put(item)\n",
      "            self.unfinished_tasks += 1\n",
      "            self.not_empty.notify()\n",
      "\n",
      "    def get(self, block=True, timeout=None):\n",
      "        '''Remove and return an item from the queue.\n",
      "\n",
      "        If optional args 'block' is true and 'timeout' is None (the default),\n",
      "        block if necessary until an item is available. If 'timeout' is\n",
      "        a non-negative number, it blocks at most 'timeout' seconds and raises\n",
      "        the Empty exception if no item was available within that time.\n",
      "        Otherwise ('block' is false), return an item if one is immediately\n",
      "        available, else raise the Empty exception ('timeout' is ignored\n",
      "        in that case).\n",
      "        '''\n",
      "        with self.not_empty:\n",
      "            if not block:\n",
      "                if not self._qsize():\n",
      "                    raise Empty\n",
      "            elif timeout is None:\n",
      "                while not self._qsize():\n",
      "                    self.not_empty.wait()\n",
      "            elif timeout < 0:\n",
      "                raise ValueError(\"'timeout' must be a non-negative number\")\n",
      "            else:\n",
      "                endtime = time() + timeout\n",
      "                while not self._qsize():\n",
      "                    remaining = endtime - time()\n",
      "                    if remaining <= 0.0:\n",
      "                        raise Empty\n",
      "                    self.not_empty.wait(remaining)\n",
      "            item = self._get()\n",
      "            self.not_full.notify()\n",
      "            return item\n",
      "\n",
      "    def put_nowait(self, item):\n",
      "        '''Put an item into the queue without blocking.\n",
      "\n",
      "        Only enqueue the item if a free slot is immediately available.\n",
      "        Otherwise raise the Full exception.\n",
      "        '''\n",
      "        return self.put(item, block=False)\n",
      "\n",
      "    def get_nowait(self):\n",
      "        '''Remove and return an item from the queue without blocking.\n",
      "\n",
      "        Only get an item if one is immediately available. Otherwise\n",
      "        raise the Empty exception.\n",
      "        '''\n",
      "        return self.get(block=False)\n",
      "\n",
      "    # Override these methods to implement other queue organizations\n",
      "    # (e.g. stack or priority queue).\n",
      "    # These will only be called with appropriate locks held\n",
      "\n",
      "    # Initialize the queue representation\n",
      "    def _init(self, maxsize):\n",
      "        self.queue = deque()\n",
      "\n",
      "    def _qsize(self):\n",
      "        return len(self.queue)\n",
      "\n",
      "    # Put a new item in the queue\n",
      "    def _put(self, item):\n",
      "        self.queue.append(item)\n",
      "\n",
      "    # Get an item from the queue\n",
      "    def _get(self):\n",
      "        return self.queue.popleft()\n",
      "\n"
     ]
    }
   ],
   "source": [
    "print(inspect.getsource(p))\n"
   ]
  },
  {
   "cell_type": "code",
   "execution_count": null,
   "id": "86244414",
   "metadata": {},
   "outputs": [],
   "source": []
  },
  {
   "cell_type": "code",
   "execution_count": null,
   "id": "fb9c2f6b",
   "metadata": {},
   "outputs": [],
   "source": []
  },
  {
   "cell_type": "code",
   "execution_count": null,
   "id": "b71d1322",
   "metadata": {},
   "outputs": [],
   "source": []
  }
 ],
 "metadata": {
  "kernelspec": {
   "display_name": "Python 3 (ipykernel)",
   "language": "python",
   "name": "python3"
  },
  "language_info": {
   "codemirror_mode": {
    "name": "ipython",
    "version": 3
   },
   "file_extension": ".py",
   "mimetype": "text/x-python",
   "name": "python",
   "nbconvert_exporter": "python",
   "pygments_lexer": "ipython3",
   "version": "3.8.10"
  }
 },
 "nbformat": 4,
 "nbformat_minor": 5
}
