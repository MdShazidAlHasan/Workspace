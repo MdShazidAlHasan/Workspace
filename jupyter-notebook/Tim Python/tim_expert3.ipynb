{
 "cells": [
  {
   "cell_type": "code",
   "execution_count": 26,
   "id": "05ef1545",
   "metadata": {},
   "outputs": [],
   "source": [
    "def add(self):\n",
    "    self.z = 1\n",
    "    \n",
    "\n",
    "x = type('Hello', (),{'x':1, 'add': add})\n",
    "t = x()"
   ]
  },
  {
   "cell_type": "code",
   "execution_count": 27,
   "id": "4b8ca539",
   "metadata": {},
   "outputs": [],
   "source": [
    "t.add()"
   ]
  },
  {
   "cell_type": "code",
   "execution_count": 28,
   "id": "fe2f18ed",
   "metadata": {},
   "outputs": [
    {
     "data": {
      "text/plain": [
       "1"
      ]
     },
     "execution_count": 28,
     "metadata": {},
     "output_type": "execute_result"
    }
   ],
   "source": [
    "t.z"
   ]
  },
  {
   "cell_type": "code",
   "execution_count": 36,
   "id": "3713ec04",
   "metadata": {},
   "outputs": [
    {
     "name": "stdout",
     "output_type": "stream",
     "text": [
      "{'__module__': '__main__', '__qualname__': 'Dog', 'x': 1, 'y': 10, 'hello': <function Dog.hello at 0x7f6799f239d0>}\n",
      "__module__ __main__\n",
      "__qualname__ Dog\n",
      "x 1\n",
      "y 10\n",
      "hello <function Dog.hello at 0x7f6799f239d0>\n"
     ]
    }
   ],
   "source": [
    "class Meta(type):\n",
    "    def __new__(self, class_name, bases, attrs):\n",
    "        print(attrs)\n",
    "        a = {}\n",
    "        for name, val in attrs.items():\n",
    "            print(name, val)\n",
    "            if name.startswith('__'):\n",
    "                a[name] = val\n",
    "            else:\n",
    "                a[name.upper()] = val\n",
    "        return type(class_name, bases, a)\n",
    "\n",
    "class Dog(metaclass=Meta):\n",
    "    x = 1\n",
    "    y = 10\n",
    "    def hello(self):\n",
    "        print('hi')\n",
    "    "
   ]
  },
  {
   "cell_type": "code",
   "execution_count": 38,
   "id": "e4cddb7a",
   "metadata": {},
   "outputs": [
    {
     "name": "stdout",
     "output_type": "stream",
     "text": [
      "hi\n"
     ]
    }
   ],
   "source": [
    "d = Dog()\n",
    "d.HELLO()"
   ]
  },
  {
   "cell_type": "code",
   "execution_count": 39,
   "id": "0e36b74b",
   "metadata": {},
   "outputs": [
    {
     "data": {
      "text/plain": [
       "<__main__.Dog at 0x7f6799ee3520>"
      ]
     },
     "execution_count": 39,
     "metadata": {},
     "output_type": "execute_result"
    }
   ],
   "source": [
    "d"
   ]
  },
  {
   "cell_type": "code",
   "execution_count": 40,
   "id": "344f2376",
   "metadata": {},
   "outputs": [
    {
     "data": {
      "text/plain": [
       "1"
      ]
     },
     "execution_count": 40,
     "metadata": {},
     "output_type": "execute_result"
    }
   ],
   "source": [
    "d.X"
   ]
  },
  {
   "cell_type": "code",
   "execution_count": null,
   "id": "253e4c10",
   "metadata": {},
   "outputs": [],
   "source": []
  }
 ],
 "metadata": {
  "kernelspec": {
   "display_name": "Python 3 (ipykernel)",
   "language": "python",
   "name": "python3"
  },
  "language_info": {
   "codemirror_mode": {
    "name": "ipython",
    "version": 3
   },
   "file_extension": ".py",
   "mimetype": "text/x-python",
   "name": "python",
   "nbconvert_exporter": "python",
   "pygments_lexer": "ipython3",
   "version": "3.8.10"
  }
 },
 "nbformat": 4,
 "nbformat_minor": 5
}
