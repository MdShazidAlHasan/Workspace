{
 "cells": [
  {
   "cell_type": "code",
   "execution_count": 1,
   "id": "a7ab1c70",
   "metadata": {},
   "outputs": [],
   "source": [
    "class Dog:\n",
    "    def __init__(self):\n",
    "        self.bark()"
   ]
  },
  {
   "cell_type": "code",
   "execution_count": 6,
   "id": "aa337384",
   "metadata": {},
   "outputs": [],
   "source": [
    "def make_class(x):\n",
    "    class Dog:\n",
    "        def __init__(self, name):\n",
    "            self.name = name\n",
    "        \n",
    "        def print_value(self):\n",
    "            print(x)\n",
    "    return Dog"
   ]
  },
  {
   "cell_type": "code",
   "execution_count": 7,
   "id": "3ee43c3a",
   "metadata": {},
   "outputs": [],
   "source": [
    "cls = make_class(10)"
   ]
  },
  {
   "cell_type": "code",
   "execution_count": 8,
   "id": "e87e8102",
   "metadata": {},
   "outputs": [
    {
     "name": "stdout",
     "output_type": "stream",
     "text": [
      "<class '__main__.make_class.<locals>.Dog'>\n"
     ]
    }
   ],
   "source": [
    "print(cls)"
   ]
  },
  {
   "cell_type": "code",
   "execution_count": null,
   "id": "b67666f6",
   "metadata": {},
   "outputs": [],
   "source": []
  }
 ],
 "metadata": {
  "kernelspec": {
   "display_name": "Python 3 (ipykernel)",
   "language": "python",
   "name": "python3"
  },
  "language_info": {
   "codemirror_mode": {
    "name": "ipython",
    "version": 3
   },
   "file_extension": ".py",
   "mimetype": "text/x-python",
   "name": "python",
   "nbconvert_exporter": "python",
   "pygments_lexer": "ipython3",
   "version": "3.8.10"
  }
 },
 "nbformat": 4,
 "nbformat_minor": 5
}
