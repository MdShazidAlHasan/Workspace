{
 "cells": [
  {
   "cell_type": "code",
   "execution_count": 115,
   "metadata": {
    "colab": {
     "base_uri": "https://localhost:8080/"
    },
    "id": "RkoRNKDOWvM5",
    "outputId": "16c56a2d-95e5-46d9-eaeb-9156e9fff294"
   },
   "outputs": [
    {
     "name": "stdout",
     "output_type": "stream",
     "text": [
      "2022-09-06 22:37:27.309310\n"
     ]
    }
   ],
   "source": [
    "from datetime import datetime\n",
    "print(datetime.now())"
   ]
  },
  {
   "cell_type": "code",
   "execution_count": 116,
   "metadata": {
    "id": "EqeRHanIWs-o"
   },
   "outputs": [],
   "source": [
    "def value(obj):\n",
    "  return obj.value()\n",
    "\n",
    "def print_values(*args):\n",
    "  for i in args:\n",
    "    print(f'{i.value():.2f}', end = ', ')\n",
    "  print()"
   ]
  },
  {
   "cell_type": "code",
   "execution_count": 117,
   "metadata": {
    "id": "G3Eh_CRTWY5W"
   },
   "outputs": [],
   "source": [
    "from math import sqrt\n",
    "class Vector:\n",
    "    __listt= []\n",
    "  # class variables\n",
    "    def __init__(self, x = 0, y = 0, z = 0):\n",
    "        self.x = float(x)\n",
    "        self.y = float(y)\n",
    "        self.z = float(z)\n",
    "        Vector. __listt.append((self.x, self.y, self.z))\n",
    "    \n",
    "  \n",
    "    def is_null(self):\n",
    "        if self.x == 0 and self.y == 0 and self.z == 0:\n",
    "            return True\n",
    "  \n",
    "    def __str__(self):\n",
    "        return f'( {self.x}, {self.y},{self.z})'\n",
    "  \n",
    "    def get_null():\n",
    "        for x, y, z in Vector.__listt:\n",
    "            if x==0 and y==0 and z==0:\n",
    "                return 'Null Found'\n",
    "  \n",
    "    def from_another_vector(self, value):\n",
    "        return Vector(self.x+value, self.y+value, self.z+value)\n",
    "  \n",
    "    def value(self):\n",
    "        return self.magnitude()\n",
    "  \n",
    "    def magnitude(self):\n",
    "        return sqrt((self.x**2+self.y**2 + self.z **2))\n",
    "    \n",
    "  \n",
    "    def get_str(self):\n",
    "    # TODO\n",
    "     #not enough information provided to implement this function\n",
    "           return f'{self.x}i , {self.y}j, {self.z}k  '\n",
    "  \n",
    "    # TODO\n",
    "    def dot(v1, v2):\n",
    "        if not isinstance(v1, Vector) and not isinstance(v2, Vector):\n",
    "            raise TypeError(\"You shold provide Vector  objects.\")\n",
    "        return v1.x * v2.x + v1.y * v2.y + v1.z * v2.z\n",
    "    \n",
    "    def angle(v1, v2):\n",
    "        import math\n",
    "        return math.acos(Vector.dot(v1,v2) / (v1.magnitude() * v2.magnitude())) * 180 / math.pi\n",
    "\n",
    "#special methods\n",
    "    def __add__(self, other):\n",
    "                if not isinstance(other, Vector):\n",
    "                    raise TypeError(\"You shold provide Vector  objects.\")\n",
    "                return Vector(other.x+self.x,other.y+self.y, other.z+self.z)\n",
    "            \n",
    "    def __sub__(self, other):\n",
    "            if not isinstance(other, Vector):\n",
    "                raise TypeError(\"You shold provide Vector objects.\")\n",
    "            return Vector(other.x-self.x,other.y-self.y, other.z-self.z)\n",
    "        \n",
    "    def __mul__(self, other):\n",
    "            if not isinstance(other, Vector):\n",
    "                raise TypeError(\"You shold provide Vector objects.\")\n",
    "            return Vector(self.y*other.z-self.z*other.y, -(self.x*other.z-self.z*other.x), self.x*other.y-self.y*other.x)\n",
    "    \n",
    "    def __neg__(self):\n",
    "        return Vector(-self.x, -self.y, -self.z)\n",
    "        \n",
    "    @staticmethod\n",
    "    def stats():\n",
    "            print(f'{len(Vector.__listt)} vectors created so far: [')\n",
    "            for v in Vector.__listt:\n",
    "                print(v, end = ' ,')\n",
    "            print(']')"
   ]
  },
  {
   "cell_type": "code",
   "execution_count": 118,
   "metadata": {
    "id": "bTPLla3DU2uq",
    "scrolled": true
   },
   "outputs": [
    {
     "name": "stdout",
     "output_type": "stream",
     "text": [
      "( 3.0, 2.0,-6.0)\n",
      "( 7.0, 5.0,-11.0)\n",
      "( 5.0, 3.0,-6.0)\n",
      "( -3.0, -1.0,-3.0)\n",
      "2022-09-06 22:37:35.759623\n",
      "7 vectors created so far: [\n",
      "(4.0, 3.0, -5.0) ,(3.0, 2.0, -6.0) ,(-3.0, -2.0, 6.0) ,(7.0, 5.0, -11.0) ,(2.0, 1.0, 0.0) ,(5.0, 3.0, -6.0) ,(-3.0, -1.0, -3.0) ,]\n"
     ]
    }
   ],
   "source": [
    "v1 = Vector(4,3,-5)\n",
    "v2 = v1.from_another_vector(-1)\n",
    "print(v2)\n",
    "v3 = -v2 - v1\n",
    "print(v3)\n",
    "v4 = v2 + Vector(2,1)\n",
    "print(v4)\n",
    "v5 = v1 * v4 # vector cross product \n",
    "print(v5)\n",
    "print(datetime.now())\n",
    "Vector.stats()"
   ]
  },
  {
   "cell_type": "code",
   "execution_count": 119,
   "metadata": {
    "id": "iNZqj0puU6O_"
   },
   "outputs": [
    {
     "name": "stdout",
     "output_type": "stream",
     "text": [
      "True\n",
      "2022-09-06 22:37:36.664184\n"
     ]
    }
   ],
   "source": [
    "v6 = v4 - v4\n",
    "print(v6.is_null())\n",
    "print(datetime.now())\n"
   ]
  },
  {
   "cell_type": "code",
   "execution_count": 120,
   "metadata": {
    "colab": {
     "base_uri": "https://localhost:8080/"
    },
    "id": "7NGtKJabU8LN",
    "outputId": "a659e75d-0c1d-40bf-e482-21e62e573e3f"
   },
   "outputs": [
    {
     "name": "stdout",
     "output_type": "stream",
     "text": [
      "7.07, 7.00, 13.96, 8.37, 4.36, 0.00, \n",
      "0.00, 4.36, 7.00, 7.07, 8.37, 13.96, \n",
      "2022-09-06 22:37:37.547916\n"
     ]
    }
   ],
   "source": [
    "vs1 = [v1,v2,v3,v4,v5,v6]\n",
    "print_values(*vs1)\n",
    "vs2 = sorted(vs1,key=value)\n",
    "print_values(*vs2)\n",
    "print(datetime.now())\n"
   ]
  },
  {
   "cell_type": "code",
   "execution_count": 121,
   "metadata": {
    "colab": {
     "base_uri": "https://localhost:8080/"
    },
    "id": "ZAlOsS6gU-mI",
    "outputId": "3d9a946f-5ef9-4ae4-fc6f-bc08bbf75d34"
   },
   "outputs": [
    {
     "name": "stdout",
     "output_type": "stream",
     "text": [
      "48.0\n",
      "2022-09-06 22:37:38.314088\n"
     ]
    }
   ],
   "source": [
    "print(Vector.dot(v1,v2))\n",
    "print(datetime.now())\n"
   ]
  },
  {
   "cell_type": "code",
   "execution_count": 148,
   "metadata": {
    "id": "NaZ1sm0pWfPF"
   },
   "outputs": [],
   "source": [
    "from collections import defaultdict\n",
    "class Shape:\n",
    "  # class variables\n",
    "    __map = defaultdict(int)\n",
    "    __map[\"Line\"] = 0\n",
    "    def __init__(self, *args):\n",
    "        self.__side_vectors = args\n",
    "        if len(args) ==1:\n",
    "           Shape. __map[\"Line\"] +=1\n",
    "        elif len(args)==2:\n",
    "            Shape. __map[\"Angle\"] +=1\n",
    "        elif len(args)==3:\n",
    "            Shape. __map['Triangle'] += 1\n",
    "        elif len(args)>3:\n",
    "            Shape. __map[f'{len(args)}-gon'] += 1\n",
    "  \n",
    "    def __str__(self): \n",
    "        res = '['\n",
    "        for v in self.get_sides():\n",
    "            res += str(v) + '\\n'\n",
    "        return res[:-1] + ']'\n",
    "  \n",
    "    def len(self): return None\n",
    "    def angle(self): return None\n",
    "    def area(self): return None\n",
    "    def value(self): pass\n",
    "  \n",
    "    def insert(self, typ):\n",
    "        if typ not in Shape.__map: \n",
    "            Shape.__map[typ] = []\n",
    "        Shape.__map[typ].append(self)\n",
    "  \n",
    "    def get_sides(self):\n",
    "        return self.__side_vectors\n",
    "    @classmethod\n",
    "    def get_shapes(cls, typ):\n",
    "            return Shape.__map[typ]\n",
    "    @staticmethod\n",
    "    def sort(*args):\n",
    "        return sorted(args, key=value)\n",
    "    \n",
    "    def stats():\n",
    "        shapes = [x for x in Shape.__map.keys()]\n",
    "        print(f'{len(shapes)} type of shapes created so far: {shapes}') \n",
    "        \n",
    "        "
   ]
  },
  {
   "cell_type": "code",
   "execution_count": 153,
   "metadata": {
    "id": "i3-prHKLWkXr"
   },
   "outputs": [],
   "source": [
    "class Line(Shape):\n",
    "    __list = []\n",
    "    def __init__(self, *args):\n",
    "        self.temp = args[0]\n",
    "        Shape.__init__(self, *args)\n",
    "        Line.__list.append(self.temp)\n",
    "    \n",
    "        \n",
    "    def __str__(self):\n",
    "        res = 'Lines with side vector:\\n'\n",
    "        \n",
    "        return  res + super().__str__()\n",
    "\n",
    "    def value(self):\n",
    "        return self.len()\n",
    "    \n",
    "    def len(self):\n",
    "        return self.get_sides()[0].magnitude()\n",
    "\n",
    "  # TODO\n",
    "    @staticmethod\n",
    "    def stats():\n",
    "            res = 'Angles with side vector:\\n'\n",
    "            print(f'{len(Line.__list)} lines created so far: [')\n",
    "            for temp in Line.__list:\n",
    "                print(res + f'[({temp.x}, {temp.y}, {temp.z})]')\n",
    "            print(']')"
   ]
  },
  {
   "cell_type": "code",
   "execution_count": 154,
   "metadata": {
    "colab": {
     "base_uri": "https://localhost:8080/"
    },
    "id": "kqKz8bsNVDD_",
    "outputId": "9fe9e135-f11c-415e-8ccf-da15505c9db5"
   },
   "outputs": [
    {
     "name": "stdout",
     "output_type": "stream",
     "text": [
      "Lines with side vector:\n",
      "[( -3.0, -1.0,-3.0)]\n",
      "Lines with side vector:\n",
      "[( 5.0, 3.0,-6.0)]\n",
      "2022-09-06 22:46:07.194538\n"
     ]
    }
   ],
   "source": [
    "l1 = Line(v5)\n",
    "print(l1)\n",
    "l2 = Line(v4)\n",
    "print(l2)\n",
    "l3 = Line(Vector(-2,1,5))\n",
    "print(datetime.now())\n"
   ]
  },
  {
   "cell_type": "code",
   "execution_count": 125,
   "metadata": {
    "colab": {
     "base_uri": "https://localhost:8080/"
    },
    "id": "V65YBoEwVFNQ",
    "outputId": "b4062feb-ea54-4084-a3d4-ffbdbcc52641"
   },
   "outputs": [
    {
     "name": "stdout",
     "output_type": "stream",
     "text": [
      "4.36, 8.37, 5.48, \n",
      "4.36, 5.48, 8.37, \n",
      "2022-09-06 22:37:42.925812\n"
     ]
    }
   ],
   "source": [
    "ls1 = [l1,l2,l3]\n",
    "print_values(*ls1)\n",
    "ls2 = sorted(ls1,key=value)\n",
    "print_values(*ls2)\n",
    "print(datetime.now())\n"
   ]
  },
  {
   "cell_type": "code",
   "execution_count": 155,
   "metadata": {
    "id": "fC91R7OPWm1e"
   },
   "outputs": [],
   "source": [
    "class Angle(Shape):\n",
    "    __list  = []\n",
    "    def __init__(self, *args):\n",
    "        self.temp1 = args[0]\n",
    "        self.temp2 = args[1]\n",
    "        Shape.__init__(self, *args)\n",
    "        Angle.__list.append((self.temp1, self.temp2))\n",
    "        \n",
    "    def __str__(self):\n",
    "        res = 'Angles with side vector:\\n'\n",
    "        return res + super().__str__()\n",
    "    \n",
    "    def value(self):\n",
    "        return self.angle()\n",
    "  \n",
    "    def angle(self):\n",
    "        import math\n",
    "        a = self.get_sides()[0]\n",
    "        b = self.get_sides()[1]\n",
    "        return math.acos(Vector.dot(a,b) / (a.magnitude() * b.magnitude())) * 180 / math.pi\n",
    "  \n",
    "    def stats():\n",
    "            res = 'Angles with side vector:\\n'\n",
    "            print(f'{len(Angle.__list)} angles created so far: [')\n",
    "            for temp1, temp2 in Angle.__list:\n",
    "                print(res + f'[({temp1.x}, {temp1.y}, {temp1.z}) \\n ({temp2.x}, {temp2.y}, {temp2.z})]')\n",
    "            print(']')"
   ]
  },
  {
   "cell_type": "code",
   "execution_count": 156,
   "metadata": {
    "colab": {
     "base_uri": "https://localhost:8080/"
    },
    "id": "m9xvtF1uVG01",
    "outputId": "b3d47e5f-4743-477b-b4d1-434218c2b1be"
   },
   "outputs": [
    {
     "name": "stdout",
     "output_type": "stream",
     "text": [
      "Angles with side vector:\n",
      "[( 4.0, 3.0,-5.0)\n",
      "( 3.0, 2.0,-6.0)]\n",
      "14.13\n",
      "Angles with side vector:\n",
      "[( 7.0, 5.0,-11.0)\n",
      "( 3.0, 2.0,-6.0)]\n",
      "7.10\n",
      "2022-09-06 22:46:39.742420\n"
     ]
    }
   ],
   "source": [
    "a1 = Angle(v1,v2)\n",
    "print(a1)\n",
    "print(f'{a1.angle():.2f}')\n",
    "a2 = Angle(v3,v2)\n",
    "print(a2)\n",
    "print(f'{a2.angle():.2f}')\n",
    "a3 = Angle(v4,v5)\n",
    "print(datetime.now())\n"
   ]
  },
  {
   "cell_type": "code",
   "execution_count": 128,
   "metadata": {
    "colab": {
     "base_uri": "https://localhost:8080/"
    },
    "id": "K0MPp69JVKlq",
    "outputId": "549542e7-416e-47a3-9f63-6e1e68846839"
   },
   "outputs": [
    {
     "name": "stdout",
     "output_type": "stream",
     "text": [
      "14.13, 7.10, 90.00, \n",
      "7.10, 14.13, 90.00, \n",
      "2022-09-06 22:37:46.091180\n"
     ]
    }
   ],
   "source": [
    "as1 = [a1,a2,a3]\n",
    "print_values(*as1)\n",
    "as2 = sorted(as1,key=value)\n",
    "print_values(*as2)\n",
    "print(datetime.now())\n"
   ]
  },
  {
   "cell_type": "code",
   "execution_count": 157,
   "metadata": {
    "id": "drYxVi-hUl-O"
   },
   "outputs": [],
   "source": [
    "class Triangle(Shape):\n",
    "    __list = []\n",
    "    def __init__(self, *args):\n",
    "        self.vector = args\n",
    "        Shape.__init__(self, *args)\n",
    "        \n",
    "        #calculate side\n",
    "        self.__side_lengths = []   \n",
    "        for item in args:\n",
    "            self.__side_lengths.append(item.value())\n",
    "        Triangle.__list.append((args[0], args[1], args[2]))\n",
    "        \n",
    "        #calculate area\n",
    "        from math import sqrt, acos\n",
    "        s = sum(self.__side_lengths)/2\n",
    "        self.__area = sqrt(s*(s-self.__side_lengths[0])*(s-self.__side_lengths[1])*(s-self.__side_lengths[2]))\n",
    "            \n",
    "        #checking validity\n",
    "        self.__is_valid = False\n",
    "        a, b, c = self.__side_lengths\n",
    "        if (a + b <= c) or (a + c <= b) or (b + c <= a) :\n",
    "            self.__is_valid = False\n",
    "        else:\n",
    "            self.__is_valid = True\n",
    "            \n",
    "        #calculating angles\n",
    "        self.__angles = []\n",
    "        angleA = acos((a**2 -b**2-c**2)/(2*b*c))\n",
    "        angleB = acos((b**2 -a**2-c**2)/(2*a*c))\n",
    "        angleC = 180-angleA-angleB\n",
    "        self.__angles.extend((angleA, angleB, angleC))\n",
    "        \n",
    "        #perimeter\n",
    "        self.__perimeter = sum(self.__side_lengths)\n",
    "            \n",
    "    def __str__(self):\n",
    "        res = 'Trinagle with side vector:\\n'\n",
    "        return res + super().__str__()\n",
    "    \n",
    "    def get_angles(self):\n",
    "        return int(self.__angles[0]*100)/100, int(self.__angles[1]*100)/100, int(self.__angles[2]*100)/100\n",
    "        \n",
    "    def get_side_lengths(self):\n",
    "        return int(self.__side_lengths[0]*100)/100, int(self.__side_lengths[1]*100)/100, int(self.__side_lengths[2]*100)/100\n",
    "    \n",
    "    def value(self):\n",
    "        return self.area()\n",
    "    \n",
    "    def area(self):\n",
    "        if self.__is_valid:\n",
    "            return self.__area\n",
    "        print('invalid triangle')\n",
    "        return 0.0\n",
    "    \n",
    "    def perimeter(self):\n",
    "        if self.__is_valid:\n",
    "            return self.__perimeter\n",
    "        print('invalid triangle')\n",
    "        return 0.0\n",
    "    \n",
    "    def get_type_by_angle(self):\n",
    "        if self.__is_valid:\n",
    "            if 90 in self.__angles: \n",
    "                type_angle = 'right angle'\n",
    "            elif self.__angles[0] > 90 or self.__angles[1] > 90 or self.__angles[2] > 90:\n",
    "                type_angle = 'obtuse'\n",
    "            else: \n",
    "                type_angle = 'acute'\n",
    "        return type_angle\n",
    "        print('invalid triangle')\n",
    "        return 0.0\n",
    "    \n",
    "    def get_type_by_side(self):\n",
    "        if self.__is_valid:\n",
    "            if self.__angles[0] == self.__angles[1] == self.__angles[2]:\n",
    "                type_side = 'equilateral'\n",
    "            elif (self.__angles[0] == self.__angles[1]) or (self.__angles[1] == self.__angles[2]) or (self.__angles[0] == self.__angles[2]):\n",
    "                type_side = 'isosceles'\n",
    "            else: \n",
    "                type_side = 'scalene'\n",
    "            return type_side\n",
    "        print('invalid triangle')\n",
    "        return 0.0\n",
    "\n",
    "  # TODO\n",
    "    def stats():\n",
    "            res = 'Angles with side vector:\\n'\n",
    "            print(f'{len(Triangle.__list)} angles created so far: [')\n",
    "            for temp1, temp2, temp3 in Triangle.__list:\n",
    "                print(res + f'[({temp1.x}, {temp1.y}, {temp1.z}) \\n ({temp2.x}, {temp2.y}, {temp2.z})\\n ({temp3.x}, {temp3.y}, {temp3.z})]')\n",
    "            print(']')"
   ]
  },
  {
   "cell_type": "code",
   "execution_count": 158,
   "metadata": {
    "colab": {
     "base_uri": "https://localhost:8080/"
    },
    "id": "45qeLP0ZVNEO",
    "outputId": "6522369c-2d5f-4345-cb17-9fdce99ca46f"
   },
   "outputs": [
    {
     "name": "stdout",
     "output_type": "stream",
     "text": [
      "Trinagle with side vector:\n",
      "[( 4.0, 3.0,-5.0)\n",
      "( 3.0, 2.0,-6.0)\n",
      "( 7.0, 5.0,-11.0)]\n",
      "6.04\n",
      "(7.07, 7.0, 13.96)\n",
      "scalene\n",
      "(3.01, 3.01, 173.96)\n",
      "obtuse\n",
      "2022-09-06 22:47:51.270640\n"
     ]
    }
   ],
   "source": [
    "t1 = Triangle(v1,v2,v3)\n",
    "print(t1)\n",
    "print(f'{t1.area():.2f}')\n",
    "print(t1.get_side_lengths())\n",
    "print(t1.get_type_by_side())\n",
    "print(t1.get_angles())\n",
    "print(t1.get_type_by_angle())\n",
    "print(datetime.now())\n"
   ]
  },
  {
   "cell_type": "code",
   "execution_count": 131,
   "metadata": {
    "colab": {
     "base_uri": "https://localhost:8080/"
    },
    "id": "6AO-EbgMVQmL",
    "outputId": "fc95ff1f-8fef-4cb4-cf96-4265bd3dc696"
   },
   "outputs": [
    {
     "name": "stdout",
     "output_type": "stream",
     "text": [
      "Trinagle with side vector:\n",
      "[(2.0, 2.0, -9.0), (3.0, 1.0, 3.0), (-5.0, -3.0, 6.0)]\n",
      "(7.0, 8.36, 15.26)\n",
      "2022-09-06 22:37:50.791012\n"
     ]
    }
   ],
   "source": [
    "t2 = Triangle(v4+v5,-v5,-v4)\n",
    "print(t2)\n",
    "t3 = Triangle(v2,v4,Vector(-8,-5,12))\n",
    "print(t3.get_side_lengths())\n",
    "print(datetime.now())\n"
   ]
  },
  {
   "cell_type": "code",
   "execution_count": 132,
   "metadata": {
    "colab": {
     "base_uri": "https://localhost:8080/"
    },
    "id": "0mTfgUwoVSv3",
    "outputId": "b31db8cf-d434-47ca-cddc-edfd39ea7cfc"
   },
   "outputs": [
    {
     "name": "stdout",
     "output_type": "stream",
     "text": [
      "6.04, 18.23, 6.73, \n",
      "6.04, 6.73, 18.23, \n",
      "2022-09-06 22:37:52.429024\n"
     ]
    }
   ],
   "source": [
    "ts1 = [t1,t2,t3]\n",
    "print_values(*ts1)\n",
    "ts2 = sorted(ts1,key=value)\n",
    "print_values(*ts2)\n",
    "print(datetime.now())\n"
   ]
  },
  {
   "cell_type": "code",
   "execution_count": 166,
   "metadata": {
    "id": "G31nvJOTWqvQ"
   },
   "outputs": [],
   "source": [
    "class RandomShape(Shape):\n",
    "    def __init__(self, *args):\n",
    "        super().__init__(*args)\n",
    "        #_side_length\n",
    "        self._side_length = []\n",
    "        for item in args:\n",
    "            self._side_length.append(item.value())\n",
    "        self.shape = len(self._side_length)\n",
    "        \n",
    "        #perimeter\n",
    "        self.__perimeter = sum(self._side_length)\n",
    "    \n",
    "    def value(self):\n",
    "        return self.__perimeter\n",
    "    \n",
    "    def __str__(self):\n",
    "        res = f'{self.shape}-gon with side vector:\\n'\n",
    "        return super().__str__()\n",
    "#         temp = [(i.x, i.y, i.z) for i in   self.vectors]\n",
    "#         return res + f'{temp}'\n",
    "# TODO\n",
    "@staticmethod\n",
    "def print_n_gons(cls, n):\n",
    "        if n ==1:\n",
    "            return \"Line\"\n",
    "        elif n==2:\n",
    "            return \"Angle\"\n",
    "        elif len(args)==3:\n",
    "            return 'Triangle'\n",
    "        elif len(args)>3:\n",
    "            return f'{n}-gon'\n",
    "        else:\n",
    "            return \"Nope\"\n",
    "  "
   ]
  },
  {
   "cell_type": "code",
   "execution_count": 167,
   "metadata": {
    "colab": {
     "base_uri": "https://localhost:8080/"
    },
    "id": "6YlBVJO9VUJx",
    "outputId": "94d8a276-e5c9-4a11-f011-b374c12d34a9"
   },
   "outputs": [
    {
     "name": "stdout",
     "output_type": "stream",
     "text": [
      "[( 4.0, 3.0,-5.0)\n",
      "( 3.0, 2.0,-6.0)\n",
      "( 7.0, 5.0,-11.0)\n",
      "( 5.0, 3.0,-6.0)]\n",
      "[( 7.0, 5.0,-11.0)\n",
      "( 2.0, 2.0,-5.0)\n",
      "( -3.0, -1.0,-3.0)\n",
      "( 4.0, 3.0,-5.0)\n",
      "( 3.0, 2.0,-6.0)\n",
      "( 7.0, 5.0,-11.0)]\n"
     ]
    },
    {
     "ename": "AttributeError",
     "evalue": "type object 'RandomShape' has no attribute 'print_n_gons'",
     "output_type": "error",
     "traceback": [
      "\u001b[0;31m---------------------------------------------------------------------------\u001b[0m",
      "\u001b[0;31mAttributeError\u001b[0m                            Traceback (most recent call last)",
      "\u001b[0;32m/tmp/ipykernel_8585/3022133593.py\u001b[0m in \u001b[0;36m<module>\u001b[0;34m\u001b[0m\n\u001b[1;32m      3\u001b[0m \u001b[0mr2\u001b[0m \u001b[0;34m=\u001b[0m \u001b[0mRandomShape\u001b[0m\u001b[0;34m(\u001b[0m\u001b[0mv3\u001b[0m\u001b[0;34m,\u001b[0m\u001b[0mv4\u001b[0m\u001b[0;34m-\u001b[0m\u001b[0mv3\u001b[0m\u001b[0;34m,\u001b[0m\u001b[0mv5\u001b[0m\u001b[0;34m,\u001b[0m\u001b[0mv1\u001b[0m\u001b[0;34m,\u001b[0m\u001b[0mv2\u001b[0m\u001b[0;34m,\u001b[0m\u001b[0mv3\u001b[0m\u001b[0;34m)\u001b[0m\u001b[0;34m\u001b[0m\u001b[0;34m\u001b[0m\u001b[0m\n\u001b[1;32m      4\u001b[0m \u001b[0mprint\u001b[0m\u001b[0;34m(\u001b[0m\u001b[0mr2\u001b[0m\u001b[0;34m)\u001b[0m\u001b[0;34m\u001b[0m\u001b[0;34m\u001b[0m\u001b[0m\n\u001b[0;32m----> 5\u001b[0;31m \u001b[0mRandomShape\u001b[0m\u001b[0;34m.\u001b[0m\u001b[0mprint_n_gons\u001b[0m\u001b[0;34m(\u001b[0m\u001b[0;36m5\u001b[0m\u001b[0;34m)\u001b[0m\u001b[0;34m\u001b[0m\u001b[0;34m\u001b[0m\u001b[0m\n\u001b[0m\u001b[1;32m      6\u001b[0m \u001b[0mprint\u001b[0m\u001b[0;34m(\u001b[0m\u001b[0mdatetime\u001b[0m\u001b[0;34m.\u001b[0m\u001b[0mnow\u001b[0m\u001b[0;34m(\u001b[0m\u001b[0;34m)\u001b[0m\u001b[0;34m)\u001b[0m\u001b[0;34m\u001b[0m\u001b[0;34m\u001b[0m\u001b[0m\n",
      "\u001b[0;31mAttributeError\u001b[0m: type object 'RandomShape' has no attribute 'print_n_gons'"
     ]
    }
   ],
   "source": [
    "r1 = RandomShape(v1,v2,v3,v4)\n",
    "print(r1)\n",
    "r2 = RandomShape(v3,v4-v3,v5,v1,v2,v3)\n",
    "print(r2)\n",
    "RandomShape.print_n_gons(5)\n",
    "print(datetime.now())\n"
   ]
  },
  {
   "cell_type": "code",
   "execution_count": 83,
   "metadata": {
    "colab": {
     "base_uri": "https://localhost:8080/"
    },
    "id": "OUHBR3P_VW64",
    "outputId": "a69d2b37-affb-4831-c130-f444d4d90ec4"
   },
   "outputs": [
    {
     "name": "stdout",
     "output_type": "stream",
     "text": [
      "52.10, 36.40, \n",
      "36.40, 52.10, \n",
      "2022-09-06 22:16:44.786621\n"
     ]
    }
   ],
   "source": [
    "rs1 = [r2,r1]\n",
    "print_values(*rs1)\n",
    "rs2 = sorted(rs1,key=value)\n",
    "print_values(*rs2)\n",
    "print(datetime.now())\n"
   ]
  },
  {
   "cell_type": "code",
   "execution_count": 84,
   "metadata": {
    "colab": {
     "base_uri": "https://localhost:8080/"
    },
    "id": "X-n_ZsoyVYZ1",
    "outputId": "78e5d0e0-9c8f-4647-9faf-b50735980226"
   },
   "outputs": [
    {
     "name": "stdout",
     "output_type": "stream",
     "text": [
      "7.00, 13.96, 8.37, 4.36, 8.37, 5.48, 14.13, 7.10, 90.00, 6.04, 18.23, 6.73, 52.10, 36.40, \n",
      "4.36, 5.48, 6.04, 6.73, 7.00, 7.10, 8.37, 8.37, 13.96, 14.13, 18.23, 36.40, 52.10, 90.00, \n",
      "2022-09-06 22:16:45.031557\n"
     ]
    }
   ],
   "source": [
    "shapes = [*vs1[1:4], *ls1, *as1, *ts1, *rs1]\n",
    "print_values(*shapes)\n",
    "shapes = sorted(shapes,key=value)\n",
    "print_values(*shapes)\n",
    "print(datetime.now())\n"
   ]
  },
  {
   "cell_type": "code",
   "execution_count": 85,
   "metadata": {
    "colab": {
     "base_uri": "https://localhost:8080/"
    },
    "id": "X9iNg5RpVdob",
    "outputId": "0db324fe-0392-4258-c664-93fb3cf78363"
   },
   "outputs": [
    {
     "name": "stdout",
     "output_type": "stream",
     "text": [
      "39 vectors created so far: [\n",
      "(4.0, 3.0, -5.0) ,(3.0, 2.0, -6.0) ,(-3.0, -2.0, 6.0) ,(7.0, 5.0, -11.0) ,(2.0, 1.0, 0.0) ,(5.0, 3.0, -6.0) ,(-3.0, -1.0, -3.0) ,(0.0, 0.0, 0.0) ,(-2.0, 1.0, 5.0) ,(2.0, 2.0, -9.0) ,(3.0, 1.0, 3.0) ,(-5.0, -3.0, 6.0) ,(-8.0, -5.0, 12.0) ,(2.0, 2.0, -5.0) ,(2.0, 2.0, -9.0) ,(3.0, 1.0, 3.0) ,(-5.0, -3.0, 6.0) ,(-8.0, -5.0, 12.0) ,(2.0, 2.0, -9.0) ,(3.0, 1.0, 3.0) ,(-5.0, -3.0, 6.0) ,(-8.0, -5.0, 12.0) ,(2.0, 2.0, -9.0) ,(3.0, 1.0, 3.0) ,(-5.0, -3.0, 6.0) ,(-8.0, -5.0, 12.0) ,(-2.0, 1.0, 5.0) ,(-2.0, 1.0, 5.0) ,(-2.0, 1.0, 5.0) ,(2.0, 2.0, -9.0) ,(3.0, 1.0, 3.0) ,(-5.0, -3.0, 6.0) ,(-8.0, -5.0, 12.0) ,(2.0, 2.0, -5.0) ,(2.0, 2.0, -9.0) ,(3.0, 1.0, 3.0) ,(-5.0, -3.0, 6.0) ,(-8.0, -5.0, 12.0) ,(2.0, 2.0, -5.0) ,]\n",
      "2022-09-06 22:16:45.224117\n"
     ]
    }
   ],
   "source": [
    "Vector.stats()\n",
    "print(datetime.now())\n"
   ]
  },
  {
   "cell_type": "code",
   "execution_count": 86,
   "metadata": {
    "colab": {
     "base_uri": "https://localhost:8080/"
    },
    "id": "_QAbInQzVfmy",
    "outputId": "52949861-9249-4cf0-af1a-b04b07036496"
   },
   "outputs": [
    {
     "name": "stdout",
     "output_type": "stream",
     "text": [
      "Line\n",
      "Angle\n",
      "Triangle\n",
      "4-gon\n",
      "6-gon\n",
      "2022-09-06 22:16:49.002768\n"
     ]
    }
   ],
   "source": [
    "Shape.stats()\n",
    "print(datetime.now())\n"
   ]
  },
  {
   "cell_type": "code",
   "execution_count": 87,
   "metadata": {
    "colab": {
     "base_uri": "https://localhost:8080/"
    },
    "id": "Dc74ax2wVhQH",
    "outputId": "835c6006-c1fa-4524-b8a5-7e71dd49d8a2"
   },
   "outputs": [
    {
     "name": "stdout",
     "output_type": "stream",
     "text": [
      "3 lines created so far: [\n",
      "Angles with side vector:\n",
      "[(-3.0, -1.0, -3.0)]\n",
      "Angles with side vector:\n",
      "[(5.0, 3.0, -6.0)]\n",
      "Angles with side vector:\n",
      "[(-2.0, 1.0, 5.0)]\n",
      "]\n",
      "2022-09-06 22:16:49.834548\n"
     ]
    }
   ],
   "source": [
    "Line.stats()\n",
    "print(datetime.now())\n"
   ]
  },
  {
   "cell_type": "code",
   "execution_count": 88,
   "metadata": {
    "colab": {
     "base_uri": "https://localhost:8080/"
    },
    "id": "x_NYA5uAVj-w",
    "outputId": "6eff489d-36ee-4028-bf2d-a72ebb7720d5"
   },
   "outputs": [
    {
     "name": "stdout",
     "output_type": "stream",
     "text": [
      "3 angles created so far: [\n",
      "Angles with side vector:\n",
      "[(4.0, 3.0, -5.0) \n",
      " (3.0, 2.0, -6.0)]\n",
      "Angles with side vector:\n",
      "[(7.0, 5.0, -11.0) \n",
      " (3.0, 2.0, -6.0)]\n",
      "Angles with side vector:\n",
      "[(5.0, 3.0, -6.0) \n",
      " (-3.0, -1.0, -3.0)]\n",
      "]\n",
      "2022-09-06 22:16:50.500488\n"
     ]
    }
   ],
   "source": [
    "Angle.stats()\n",
    "print(datetime.now())\n"
   ]
  },
  {
   "cell_type": "code",
   "execution_count": 89,
   "metadata": {
    "colab": {
     "base_uri": "https://localhost:8080/"
    },
    "id": "4a4MRvG5Vmiq",
    "outputId": "189e200c-fbdb-40ec-a5d0-9837df9e1536"
   },
   "outputs": [
    {
     "name": "stdout",
     "output_type": "stream",
     "text": [
      "3 angles created so far: [\n",
      "Angles with side vector:\n",
      "[(4.0, 3.0, -5.0) \n",
      " (3.0, 2.0, -6.0)\n",
      " (7.0, 5.0, -11.0)]\n",
      "Angles with side vector:\n",
      "[(2.0, 2.0, -9.0) \n",
      " (3.0, 1.0, 3.0)\n",
      " (-5.0, -3.0, 6.0)]\n",
      "Angles with side vector:\n",
      "[(3.0, 2.0, -6.0) \n",
      " (5.0, 3.0, -6.0)\n",
      " (-8.0, -5.0, 12.0)]\n",
      "]\n",
      "2022-09-06 22:16:51.178214\n"
     ]
    }
   ],
   "source": [
    "Triangle.stats()\n",
    "print(datetime.now())\n"
   ]
  },
  {
   "cell_type": "code",
   "execution_count": 90,
   "metadata": {
    "colab": {
     "base_uri": "https://localhost:8080/"
    },
    "id": "kLZi7L6KUzrW",
    "outputId": "9aa00689-6337-428c-8e99-a22a10f0a768"
   },
   "outputs": [
    {
     "name": "stdout",
     "output_type": "stream",
     "text": [
      "Line\n",
      "Angle\n",
      "Triangle\n",
      "4-gon\n",
      "6-gon\n",
      "2022-09-06 22:16:57.452877\n"
     ]
    }
   ],
   "source": [
    "RandomShape.stats()\n",
    "print(datetime.now())\n"
   ]
  },
  {
   "cell_type": "code",
   "execution_count": null,
   "metadata": {},
   "outputs": [],
   "source": []
  },
  {
   "cell_type": "code",
   "execution_count": null,
   "metadata": {},
   "outputs": [],
   "source": []
  }
 ],
 "metadata": {
  "colab": {
   "collapsed_sections": [],
   "provenance": []
  },
  "kernelspec": {
   "display_name": "Python 3 (ipykernel)",
   "language": "python",
   "name": "python3"
  },
  "language_info": {
   "codemirror_mode": {
    "name": "ipython",
    "version": 3
   },
   "file_extension": ".py",
   "mimetype": "text/x-python",
   "name": "python",
   "nbconvert_exporter": "python",
   "pygments_lexer": "ipython3",
   "version": "3.8.10"
  }
 },
 "nbformat": 4,
 "nbformat_minor": 1
}
