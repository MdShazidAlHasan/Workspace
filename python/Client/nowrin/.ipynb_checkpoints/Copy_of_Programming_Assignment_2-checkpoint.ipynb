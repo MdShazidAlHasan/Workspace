{
 "cells": [
  {
   "cell_type": "markdown",
   "metadata": {
    "id": "JNdeli_MCIdi"
   },
   "source": [
    "_Department of Computer Science and IT_ | **_La Trobe University, Australia_**\n",
    "\n",
    "---"
   ]
  },
  {
   "cell_type": "markdown",
   "metadata": {
    "id": "IOeoat70jqvm"
   },
   "source": [
    "# Programming Assignment 2 (CSE1PE/PES 2022, Semester 2)"
   ]
  },
  {
   "cell_type": "code",
   "execution_count": null,
   "metadata": {
    "id": "AJEOHqb2YYfs"
   },
   "outputs": [],
   "source": [
    "STUDENT_NAME = 'Syma Nowrin'\n",
    "STUDENT_ID = '21297642'"
   ]
  },
  {
   "cell_type": "markdown",
   "metadata": {
    "id": "8Qq4WX9LEKdb"
   },
   "source": [
    "## Instructions\n",
    "This assignment is structured similarly to the labs, and as such the instructions are similar:\n",
    " - Read each question thoroughly multiple times to ensure that you understand the requirements.\n",
    " - Once you understand the question, write your solution in the associated code cell titled \"Your Solution\". Your solution must consist of valid Python code which runs in Google Colab.\n",
    " - Test your solution multiple times, with a variety of inputs---not just those found in the example runs.\n",
    " - Unless explicitly asked in the question, you are _not_ required to validate user input, i.e. you can assume that the user will enter a valid input value.\n",
    " - Keep in mind that partial attempts at solutions will likely still be worth some marks, so be sure to have a go at writing code for every task. \n",
    "\n",
    "When you have satisfactorily attempted all problems, confirm that your solution works by resetting the notebook runtime and running your code again---instructions can be found at the bottom of this notebook.\n",
    "\n",
    "The submission for this assignment is the `.ipynb` notebook file. You should export this file and upload it via the link in the LMS---instructions can be found on the assignment submission page. Do not submit your solutions in any other format as they will not be graded.\n",
    "\n",
    "**This is an individual assignment, and the solutions that you submit for all of the tasks must be your own. Copying solutions from other students, relatives, friends, or strangers on the internet is plagiarism and treated as [academic misconduct](https://www.latrobe.edu.au/students/admin/academic-integrity) by La Trobe University. Plagiarism includes copying solutions and making superficial changes to the code (such as renaming variables or editing comments). The penalty for academic misconduct can be as serious as expulsion from the university.**"
   ]
  },
  {
   "cell_type": "markdown",
   "metadata": {
    "id": "rZ6svOhkLpiH"
   },
   "source": [
    "## Frequently Asked Questions\n",
    "\n",
    "_Q: The \"Your Solution\" cell contains some code in it already. Can I change that code however I want?_\n",
    "\n",
    "A: No. There are comments which clearly indicate where you should be writing your solution.\n",
    "\n",
    "_Q: I want to write the code in a text editor such as Visual Studio Code. Can I submit `.py` files instead of using this notebook?_\n",
    "\n",
    "A: No, only `.ipynb` files will be graded. If you really want to write your code in a text editor, ensure that you copy your solutions into the appropriate notebook cells afterwards and run them to make sure that they work correctly. You can then follow the usual submission procedure.\n",
    "\n",
    "_Q: I'm getting ready for submission, but I can't open the downloaded `.ipynb` file on my computer. Is that a problem?_\n",
    "\n",
    "A: That's not a problem, we know how to open it to mark your assignment. If you want to double-check the contents of the downloaded `.ipynb` file for your own peace of mind, you can upload it to [Google Colab](https://colab.research.google.com/) and open it there.\n",
    "\n",
    "_Q: There is a mismatch between the precision of values shown in the example runs and my solution's output (e.g. my code prints \"\\$23.33333334\" but the question asks for 2 decimal places and the example run shows \"\\$23.34\"). Is it still possible to achieve full marks with this kind of discrepancy?_\n",
    "\n",
    "A: No, you would not receive full marks for such a solution. Unlike Programming Assignment 1, the **tasks in Programming Assignment 2 are designed to test your ability to format outputs as well as implement the program logic**. If you are having trouble with formatting your output, you may wish to revise f-strings (Topic 6)."
   ]
  },
  {
   "cell_type": "markdown",
   "metadata": {
    "id": "0kzVBQT0ENCX"
   },
   "source": [
    "## Programming Tasks\n",
    "This assignment consists of five programming tasks, with a total of 100 marks allocated between them according to their difficulty.\n",
    "\n",
    "Take your time to read and re-read the instructions before attempting to write your solution---you can save a lot of trouble by simply having a clear understanding of the problem before touching any code."
   ]
  },
  {
   "cell_type": "markdown",
   "metadata": {
    "id": "HEKV5dG50er5"
   },
   "source": [
    "### Task 1 _(20 marks)_\n",
    "For this task, you are to write code that tells the user how many days are in a month."
   ]
  },
  {
   "cell_type": "markdown",
   "metadata": {
    "id": "nqByRI4e0er7"
   },
   "source": [
    "#### Instructions\n",
    "Your task is to write a program which asks the user to input the name of a month. The program should then display the number of days in that month for a common year (i.e. not a leap year).\n",
    "\n",
    "The number of days in each month for a common year are:\n",
    "\n",
    "| Month     | Days |\n",
    "|-----------|------|\n",
    "| january   | 31   |\n",
    "| february  | 28   |\n",
    "| march     | 31   |\n",
    "| april     | 30   |\n",
    "| may       | 31   |\n",
    "| june      | 30   |\n",
    "| july      | 31   |\n",
    "| august    | 31   |\n",
    "| september | 30   |\n",
    "| october   | 31   |\n",
    "| november  | 30   |\n",
    "| december  | 31   |\n",
    "\n",
    "In your code you shall define a constant which references a dictionary containing the data in the above table using the appropriate data types. Next, ask the user to input a month name. If the month name is present in the dictionary, display the number of days in the month. Otherwise, display the message \"Invalid month name\".\n",
    "\n",
    "To be more user-friendly, you must also ignore the capitalisation of the input name when checking it (i.e. \"august\", \"AUGUST\", and \"August\" are all accepted by the program).\n",
    "\n",
    "_Hint: Ensure that month names in your dictionary are all in lowercase, then\n",
    "use the appropriate method to convert the user input to lowercase also._"
   ]
  },
  {
   "cell_type": "markdown",
   "metadata": {
    "id": "l8LokrfT0er8"
   },
   "source": [
    "#### Requirements\n",
    "To achieve full marks for this task, you must follow the instructions above when writing your solution. Additionally, your solution must adhere to the following requirements:\n",
    " - You **must** ignore the capitalisation of the user input.\n",
    " - You **must** define a dictionary constant containing month names and days and use this in your code.\n",
    " - You **must not** write code which explicitly compares the user input with each individual month name.\n",
    " - You **must** use appropriate data types."
   ]
  },
  {
   "cell_type": "markdown",
   "metadata": {
    "id": "CZTDXjNU0er9"
   },
   "source": [
    "#### Example Runs\n",
    "##### Run 1\n",
    "```\n",
    "Enter the name of a month: april\n",
    "That month has 30 days.\n",
    "```\n",
    "\n",
    "##### Run 2\n",
    "```\n",
    "Enter the name of a month: AUgust\n",
    "That month has 31 days.\n",
    "```\n",
    "\n",
    "##### Run 3\n",
    "```\n",
    "Enter the name of a month: crowvember\n",
    "Invalid month name.\n",
    "```\n",
    "\n",
    "Your code should execute as closely as possible to the example runs above. To check for correctness, ensure that your program gives the same outputs as in the examples, as well as trying it with other inputs."
   ]
  },
  {
   "cell_type": "markdown",
   "metadata": {
    "id": "aYFxc2VC0er-"
   },
   "source": [
    "#### Your Solution"
   ]
  },
  {
   "cell_type": "code",
   "execution_count": null,
   "metadata": {
    "colab": {
     "base_uri": "https://localhost:8080/"
    },
    "id": "ly-6V56-0er-",
    "outputId": "6851f143-1f1f-40e2-a657-b74eecb913a3"
   },
   "outputs": [
    {
     "name": "stdout",
     "output_type": "stream",
     "text": [
      "Enter the name of a month: november\n",
      "That month has 30 days\n"
     ]
    }
   ],
   "source": [
    "dictionary={\"january\":31 ,\"february\":28,\"march\":31,\"april\":30,\"may\":31,\"june\":30,\"july\":31, \"august\":31,\"september\":30,\"october\":31,\"november\":30,\"december\":31}\n",
    "a=input(\"Enter the name of a month: \").lower()\n",
    "if a in dictionary:\n",
    "  print(\"That month has\",dictionary.get(a),\"days\")\n",
    "else:\n",
    "  print('Invalid month name.')\n",
    "\n"
   ]
  },
  {
   "cell_type": "markdown",
   "metadata": {
    "id": "hHDqfwMDtU0e"
   },
   "source": [
    "### Task 2 _(20 marks)_\n",
    "For this task, you are to complete a program which manages songs in a playlist."
   ]
  },
  {
   "cell_type": "markdown",
   "metadata": {
    "id": "REsnAwLBORll"
   },
   "source": [
    "#### Instructions\n",
    "The song playlist program found below is currently missing three important pieces of functionality---it doesn't add songs to the playlist, it can't sort the songs in the playlist, and it can't display the playlist.\n",
    "\n",
    "Provided for you is the `Song` class which contains the **title** and **artist** for a particular song, and the `Playlist` class which is responsible for maintaining a collection of songs. Your task is to implement missing functionality by a) completing the interactive loop, and defining the b) `sort_by_title` and c) `print_songs` methods in the `Playlist` class.\n",
    "\n",
    "##### a) Completing the interactive loop\n",
    "To complete the interactive loop, you must instantiate a `Song` object instance using the information provided by the user and add it to the `Playlist` object using the provided `add_song` method.\n",
    "\n",
    "##### b) Defining the `sort_by_title` method\n",
    "This method is to take no arguments and should sort the songs in ascending order of title.\n",
    "\n",
    "##### c) Defining the `print_songs` method\n",
    "This method is to take one argument, `n`, which is the maximum number of songs to display. It should then print the first _n_ songs in the playlist in order, **numbering the results**. If there are fewer than _n_ songs in the playlist, all of the songs should be displayed with no \"blanks\" in the output. Here's an example of output which could be produced when `playlist.print_songs(3)` is called:\n",
    "\n",
    "```\n",
    "1. Jethro Tull - Aqualung\n",
    "2. Coil - Broccoli\n",
    "3. Talkshow Boy - Chop Us Out\n",
    "```\n",
    "\n",
    "In order to sort the movies you should call the `sort` list method ([documented here](https://docs.python.org/3/library/stdtypes.html#list.sort)). You will need to make use of one of the `sort` method's named arguments when calling it: `key`:\n",
    "\n",
    "* The `key` named argument can be provided with the _name_ of a function (no parentheses). That function will be called for each item, and sorting will be based on the values returned by the function.\n",
    "\n",
    "_Hint: A function which returns the title of a song has already been defined for you, and can be used as the `key` named argument for `sort`._"
   ]
  },
  {
   "cell_type": "markdown",
   "metadata": {
    "id": "H8Zhadh1UX0Z"
   },
   "source": [
    "#### Requirements\n",
    "To achieve full marks for this task, you must follow the instructions above when writing your solution. Additionally, your solution must adhere to the following requirements:\n",
    " - You **must** use the `sort` list method with appropriate named arguments to sort songs in ascending order of titles in the `sort_by_title`.\n",
    " - You **must** make appropriate use of a loop to print the songs.\n",
    " - You **must not** use a `return` statement in `print_songs`.\n",
    " - You **must** limit the number of songs printed to _n_. If there are fewer than _n_ songs in the playlist, all of them should be printed.\n",
    " - You **must** number the printed songs, starting at 1."
   ]
  },
  {
   "cell_type": "markdown",
   "metadata": {
    "id": "x21GEC8FOU4w"
   },
   "source": [
    "#### Example Runs\n",
    "##### Run 1\n",
    "```\n",
    "Song title (or blank to finish): Broccoli\n",
    "Artist name: Coil\n",
    "Song title (or blank to finish): Chop Us Out\n",
    "Artist name: Talkshow Boy\n",
    "Song title (or blank to finish): Flim\n",
    "Artist name: Aphex Twin\n",
    "Song title (or blank to finish): Aqualung\n",
    "Artist name: Jethro Tull\n",
    "Song title (or blank to finish): \n",
    "How many songs do you want to display? 3\n",
    "1. Aqualung (by Jethro Tull)\n",
    "2. Broccoli (by Coil)\n",
    "3. Chop Us Out (by Talkshow Boy)\n",
    "```\n",
    "\n",
    "##### Run 2 (not enough songs)\n",
    "```\n",
    "Song title (or blank to finish): Paranoid Android\n",
    "Artist name: Radiohead\n",
    "Song title (or blank to finish): Airbag\n",
    "Artist name: Radiohead\n",
    "Song title (or blank to finish): \n",
    "How many songs do you want to display? 10\n",
    "1. Airbag (by Radiohead)\n",
    "2. Paranoid Android (by Radiohead)\n",
    "```\n",
    "\n",
    "Your code should execute as closely as possible to the example runs above. To check for correctness, ensure that your program gives the same outputs as in the examples, as well as trying it with other inputs."
   ]
  },
  {
   "cell_type": "markdown",
   "metadata": {
    "id": "5F6sI91qcSWt"
   },
   "source": [
    "#### Your Solution"
   ]
  },
  {
   "cell_type": "code",
   "execution_count": null,
   "metadata": {
    "colab": {
     "base_uri": "https://localhost:8080/"
    },
    "id": "It712ZOqiXL8",
    "outputId": "3bf23121-964d-413f-c37c-2213fe0e2a34"
   },
   "outputs": [
    {
     "name": "stdout",
     "output_type": "stream",
     "text": [
      "Title:aeffe\n",
      "Artist:dcankfnkqa\n",
      "Title:sdcxknavkna\n",
      "Artist:dknwd\n",
      "Title:\n",
      "How many songs do you want to display? 2\n",
      "1. aeffe - dcankfnkqa\n",
      "2. sdcxknavkna - dknwd\n"
     ]
    }
   ],
   "source": [
    "\n",
    "\n",
    "class Playlist:\n",
    "\tdef __init__(self, r):\n",
    "\t\tself.r = r\n",
    "\t\tself.songs = []\n",
    "\t\n",
    "\tdef add_song(self, song):\n",
    "\t\tself.songs.append(song)\n",
    "\tdef sort_by_title(self):\n",
    "\t\tself.songs.sort(key=Song.get_song_title)\n",
    "\tdef print_songs(self, n):\n",
    "\t\tfor i in range(n):\n",
    "\t\t\tif i < len(self.songs):\n",
    "\t\t\t\tprint(str(i+1)+\".\", self.songs[i].title,'-', self.songs[i].artist)\n",
    "\n",
    "n = ()\n",
    "playlist = Playlist(n)\n",
    "while True:\n",
    "\t  title=input('Song title (or blank to finish)')\n",
    "     if title=='':\n",
    "\n",
    "\n",
    " \n",
    "\n",
    "\tartist = input(\"Artist:\")\n",
    "\tsong = Song(title, artist)\n",
    "\tplaylist.add_song(song)\n",
    "\n",
    "\n",
    "\n",
    "playlist.sort_by_title()\n",
    "\n",
    "\n",
    "num_songs = int(input('How many songs do you want to display? '))\n",
    "playlist.print_songs(num_songs)\n",
    "\n",
    "        \n",
    "\n",
    "\n",
    "\n",
    "\n",
    "\n"
   ]
  },
  {
   "cell_type": "code",
   "execution_count": null,
   "metadata": {
    "id": "4Dt8YWrPtLtU"
   },
   "outputs": [],
   "source": [
    "class Song:\n",
    "   \n",
    "\tdef __init__(self, title, artist):\n",
    "\t\tself.title = title\n",
    "\t\tself.artist = artist\n",
    "\t\n",
    "\tdef get_title(song):\n",
    "\t\treturn song.title\n",
    "\n",
    "class Playlist:\n",
    "\tdef __init__(self, r):\n",
    "\t\tself.r = r\n",
    "\t\tself.songs = []\n",
    "\t\n",
    "\tdef add_song(self, song):\n",
    "\t\tself.songs.append(song)\n",
    "\tdef sort_by_title(self):\n",
    "\t\tself.songs.sort(key=Song.get_title)\n",
    "\tdef print_songs(self, n):\n",
    "\t\tfor i in range(n):\n",
    "\t\t\tif i < len(self.songs):\n",
    "\t\t\t\tprint(str(i+1)+\".\", self.songs[i].title,'-', self.songs[i].artist)\n",
    "\n",
    "\n",
    "n = ()\n",
    "playlist = Playlist(n)\n",
    "\n",
    "while True:\n",
    "\ttitle = input(\"Title:\")\n",
    "\tif title == '':\n",
    "\t\tbreak\n",
    "\tartist = input(\"Artist:\")\n",
    "\tsong = Song(title, artist)\n",
    "\tplaylist.add_song(song)\n",
    "\n",
    "\n",
    "\n",
    "playlist.sort_by_title()\n",
    "\n",
    "num_songs = int(input('How many songs do you want to display? '))\n",
    "playlist.print_songs(num_songs)\n",
    "\n",
    "\n",
    "        \n",
    "   \n",
    "    \n",
    "    \n",
    "\n"
   ]
  },
  {
   "cell_type": "markdown",
   "metadata": {
    "id": "xGzK6ZQ6FTwi"
   },
   "source": [
    "### Task 3 _(20 marks)_\n",
    "For this task, you are to write code that reads and analyses prices from a text file."
   ]
  },
  {
   "cell_type": "markdown",
   "metadata": {
    "id": "oldPKHQBjAUl"
   },
   "source": []
  },
  {
   "cell_type": "markdown",
   "metadata": {
    "id": "o_eMg2cVkLdl"
   },
   "source": []
  },
  {
   "cell_type": "markdown",
   "metadata": {
    "id": "m_LAsEt1FTwi"
   },
   "source": [
    "#### Instructions\n",
    "Run the following code cell to download a price list to your Google Drive. This file is a text file with one price (in dollars) per line. You can view the contents of this file yourself by [clicking this link](https://gist.github.com/anibali/85f5c4e8eb9881f64650822aa03aa55b)."
   ]
  },
  {
   "cell_type": "code",
   "execution_count": 2,
   "metadata": {
    "id": "3C--_MdRID5T"
   },
   "outputs": [],
   "source": [
    "# DO NOT EDIT THIS CODE\n",
    "\n",
    "# Download the data that we need for this task\n",
    "import urllib.request\n",
    "PRICES_URL = 'https://gist.githubusercontent.com/anibali/85f5c4e8eb9881f64650822aa03aa55b/raw/49adefb8a7ffa92da35e4f637cbebdd8ef53352f/prices.txt'\n",
    "with open('prices.txt', 'w') as f:\n",
    "    f.write(urllib.request.urlopen(PRICES_URL).read().decode())"
   ]
  },
  {
   "cell_type": "markdown",
   "metadata": {
    "id": "DWWSPf5tO2Q-"
   },
   "source": [
    "Now that you have the prices file downloaded, your job is to write some Python code which reads and analyses those prices.\n",
    "\n",
    "##### a) Reading the prices into a list\n",
    "\n",
    "Firstly, you must read all of the prices from the file. Code which opens the file has been provided for you. Write code which reads from the file object `prices_file`, populating a list of numbers representing the prices that came from the file. Give your list variable an appropriate name.\n",
    "\n",
    "_Hint: you do not need to remove the trailing newline character from each line._\n",
    "\n",
    "##### b) Analysing the prices\n",
    "\n",
    "Next, you must write code which finds the **cheapest price** and the **average price amongst prices below $100**. You are to perform these computations using your list and a loop---do not use existing functions/methods like `len`,  `max`, `sum`, or `sort`. Display the computed values to two decimal places using f-strings.\n",
    "\n",
    "You may assume that there are no items which cost $9999 or more."
   ]
  },
  {
   "cell_type": "markdown",
   "metadata": {
    "id": "MT8xCRfWUhwd"
   },
   "source": [
    "#### Requirements\n",
    "To achieve full marks for this task, you must follow the instructions above when writing your solution. Additionally, your solution must adhere to the following requirements:\n",
    " - You **must** read all prices into a list of numbers.\n",
    " - You **must** write your own loop which aggregates values from the list (do not use existing functions or methods such as `len`, `max`, `sum`, or `sort`).\n",
    " - You **must** use f-strings to format the outputs (do not use string concatenation).\n",
    " - You **must** ensure that the prices are printed with two decimal places of precision."
   ]
  },
  {
   "cell_type": "markdown",
   "metadata": {
    "id": "raf4_Y7zFTwi"
   },
   "source": [
    "#### Example Runs\n",
    "##### Run 1\n",
    "```\n",
    "Cheapest item: $59.00\n",
    "Average price of items under $100: $80.10\n",
    "```\n",
    "\n",
    "Your code should execute as closely as possible to the example run above."
   ]
  },
  {
   "cell_type": "markdown",
   "metadata": {
    "id": "4M7dnQJMFTwj"
   },
   "source": [
    "#### Your Solution"
   ]
  },
  {
   "cell_type": "code",
   "execution_count": 3,
   "metadata": {
    "id": "z_I8bHdHFTwj"
   },
   "outputs": [
    {
     "name": "stdout",
     "output_type": "stream",
     "text": [
      "The cheapest price: 59.00\n",
      "The average price amongst prices below $100: 80.10\n"
     ]
    }
   ],
   "source": [
    "\n",
    "\n",
    "prices_file = open('prices.txt', 'r')\n",
    "try:\n",
    "    \n",
    "    # Create an empty list to store price \n",
    "    prices_list = []\n",
    "    \n",
    "    # Open file for reading the prices\n",
    "    with open('prices.txt') as prices_file:\n",
    "        \n",
    "        # Loop for price in each line of file \n",
    "        for price in prices_file:\n",
    "            \n",
    "            # Append the price in price list \n",
    "            prices_list.append(float(price))\n",
    "            \n",
    "    \n",
    "    cheapest_price = 10000\n",
    "    sum_price = 0 \n",
    "    num_price = 0 \n",
    "    for price in prices_list:\n",
    "        if price < cheapest_price:\n",
    "            cheapest_price = price \n",
    "        if price < 100:\n",
    "            sum_price += price \n",
    "            num_price += 1\n",
    "    avg_price = sum_price / num_price\n",
    "    print(f'The cheapest price: {cheapest_price:.2f}')\n",
    "    print(f'The average price amongst prices below $100: {avg_price:.2f}')\n",
    "except FileNotFoundError:\n",
    "    print(\"Error: File can't open\")\n",
    "prices_file.close()\n",
    "\n",
    "# b) Analyse the prices here"
   ]
  },
  {
   "cell_type": "markdown",
   "metadata": {
    "id": "hAiTuoBmFT8k"
   },
   "source": [
    "### Task 4 _(20 marks)_\n",
    "For this task, you are to add a validation check and error handling to a simple library catalogue program."
   ]
  },
  {
   "cell_type": "markdown",
   "metadata": {
    "id": "h08dNZc3FT8l"
   },
   "source": [
    "#### Instructions\n",
    "A sample program has been provided which asks the user to enter book details (title and ISBN), then stores them in memory using the provided Library class. When the user is finished, the entire catalogue of books in the library is displayed. Your task is to build upon this code to detect and handle invalid ISBN input.\n",
    "\n",
    "##### a) Detecting invalid ISBNs\n",
    "\n",
    "The `add_book` method adds a book to the library when called, but does not perform any checks to see whether the provided ISBN is valid. Add code to this function which checks whether all characters in the ISBN string are decimal digits and that it has a length of either 10 or 13 digits (there are other validity checks that we could do, but these conditions will suffice for this task). If the check fails, this means that the ISBN value is not valid and you should raise a `ValueError` exception with an appropriate and informative error message. The message should be different based on whether the length is incorrect or the characters are not all decimal digits.\n",
    "\n",
    "_Hint: The string method [isdecimal](https://docs.python.org/3/library/stdtypes.html#str.isdecimal) will be useful here (it checks whether all characters in a string are decimal digits)._\n",
    "\n",
    "To test that your code is working, try entering an invalid ISBN and make sure that the program crashes with a `ValueError` displaying your error message.\n",
    "\n",
    "##### b) Handling input errors\n",
    "\n",
    "If you correctly completed part a), you will notice that when the user inputs an invalid ISBN the entire program will crash with the `ValueError` that you raised. This does not make for a very nice user experience!\n",
    "\n",
    "Modify the interactive input loop to handle the appropriate exception type, including no more code in the try block than is needed and handling the appropriate exception type. Your handling code should display a message to let the user know that the book they entered was invalid (you do not need to display a specific reason why). Following this exception handling the user should then be prompted to enter book details again."
   ]
  },
  {
   "cell_type": "code",
   "execution_count": null,
   "metadata": {
    "id": "YK9i1cswIMiL"
   },
   "outputs": [],
   "source": []
  },
  {
   "cell_type": "markdown",
   "metadata": {
    "id": "hBPl-MaSUiEn"
   },
   "source": [
    "#### Requirements\n",
    "To achieve full marks for this task, you must follow the instructions above when writing your solution. Additionally, your solution must adhere to the following requirements:\n",
    " - You **must** continue to accept valid ISBNs.\n",
    " - You **must** raise an exception when an ISBN is not of the correct length or contains invalid characters.\n",
    " - You **must** use appropriate exception error messages which change depending on whether the ISBN contains invalid characters or is the wrong length.\n",
    " - You **must** handle the appropriate exception error type.\n",
    " - You **must not** include more code in the try block than is required.\n",
    " - You **must not** store invalid details of books in the library."
   ]
  },
  {
   "cell_type": "markdown",
   "metadata": {
    "id": "PsnR1LoKFT8l"
   },
   "source": [
    "#### Example Runs\n",
    "##### Run 1\n",
    "```\n",
    "Enter title (or blank to finish): Matter\n",
    "Enter ISBN: 1841494186\n",
    "Enter title (or blank to finish): Syrup\n",
    "Enter ISBN: 9780140291872\n",
    "Enter title (or blank to finish): \n",
    "\n",
    "Books in library:\n",
    "Matter [ISBN: 1841494186]\n",
    "Syrup [ISBN: 9780140291872]\n",
    "```\n",
    "\n",
    "##### Run 2 (invalid ISBN)\n",
    "```\n",
    "Enter title (or blank to finish): Sabriel\n",
    "Enter ISBN: 123\n",
    "Invalid, please try again.\n",
    "Enter title (or blank to finish): Peeps\n",
    "Enter ISBN: 1595140832\n",
    "Enter title (or blank to finish): \n",
    "\n",
    "Books in library:\n",
    "Peeps [ISBN: 1595140832]\n",
    "```\n",
    "\n",
    "Your code should execute as closely as possible to the example runs above. To check for correctness, ensure that your program gives the same outputs as in the examples, as well as trying it with other inputs."
   ]
  },
  {
   "cell_type": "markdown",
   "metadata": {
    "id": "3pi8o6CVTOQw"
   },
   "source": [
    "#### Your Solution"
   ]
  },
  {
   "cell_type": "code",
   "execution_count": null,
   "metadata": {
    "colab": {
     "base_uri": "https://localhost:8080/"
    },
    "id": "ewDL8zy3TZat",
    "outputId": "ac68e90e-73d7-4134-ca48-11e863e3e41b"
   },
   "outputs": [
    {
     "name": "stdout",
     "output_type": "stream",
     "text": [
      "Enter title (or blank to finish): matter\n",
      "Enter ISBN: 123\n",
      "Invalid, please try again with valid input\n",
      "Invalid length\n",
      "Enter title (or blank to finish): matter\n",
      "Enter ISBN: 1595140832\n",
      "Enter title (or blank to finish): lol\n",
      "Enter ISBN: 1595140832\n",
      "Invalid, please try again with valid input\n",
      "ISBN already exists\n"
     ]
    }
   ],
   "source": [
    "class valueError(Exception):\n",
    "    def __init__(self, message):\n",
    "        self.message = message\n",
    "\n",
    "class Library:\n",
    "    def __init__(self):\n",
    "        self.books = {}\n",
    "\n",
    "    def add_book(self, title, isbn):\n",
    "        self.books[title] =isbn \n",
    "        \n",
    "    def print_books(self):\n",
    "        for isbn, title in self.books.items():\n",
    "            print(f'{title} [ISBN: {isbn}]')\n",
    "\n",
    "library = Library()\n",
    "\n",
    "while True:\n",
    "    try:\n",
    "            title = input('Enter title (or blank to finish): ')\n",
    "            if title == '':\n",
    "                break\n",
    "            # b) Handle your exception here\n",
    "            isbn = input('Enter ISBN: ')\n",
    "            if(not isbn.isnumeric()):\n",
    "                raise valueError(\"ISBN is not a number\")\n",
    "            elif(not((len(isbn)==10 or len(isbn)==13 ))):\n",
    "                raise valueError(\"Invalid length\")\n",
    "            elif isbn in library.books.values():\n",
    "                raise valueError(\"ISBN already exists\")\n",
    "            #adding books to library\n",
    "            library.add_book(title,isbn)\n",
    "            \n",
    "    except valueError as error:\n",
    "            print(\"Invalid, please try again with valid input\")\n",
    "            print(error.message)\n",
    "            \n",
    "print('\\nBooks in library:')\n",
    "library.print_books()"
   ]
  },
  {
   "cell_type": "markdown",
   "metadata": {
    "id": "BsmcvemuFUPM"
   },
   "source": [
    "### Task 5 _(20 marks)_\n",
    "For this task, you are to graph the physical characteristics of Gentoo penguins using Pandas and Matplotlib."
   ]
  },
  {
   "cell_type": "markdown",
   "metadata": {
    "id": "KWbBW-t7FUPN"
   },
   "source": [
    "#### Instructions\n",
    "This task uses a dataset containing some physical measurements of three penguin species: Adelie, Chinstrap and Gentoo. You can view the dataset online [by clicking here](https://gist.github.com/anibali/c2abc8cab4a2f7b0a6518d11a67c693c). Run the following code cell to load the dataset into a Pandas DataFrame and look at the first few rows. Read through the code before executing it."
   ]
  },
  {
   "cell_type": "code",
   "execution_count": null,
   "metadata": {
    "colab": {
     "base_uri": "https://localhost:8080/",
     "height": 206
    },
    "id": "8oBj9S-BabnJ",
    "outputId": "26f2ec2a-77fc-488a-956c-3e039e28b6dc"
   },
   "outputs": [
    {
     "data": {
      "text/html": [
       "\n",
       "  <div id=\"df-9b0d9ed1-a10c-4155-a287-077183906830\">\n",
       "    <div class=\"colab-df-container\">\n",
       "      <div>\n",
       "<style scoped>\n",
       "    .dataframe tbody tr th:only-of-type {\n",
       "        vertical-align: middle;\n",
       "    }\n",
       "\n",
       "    .dataframe tbody tr th {\n",
       "        vertical-align: top;\n",
       "    }\n",
       "\n",
       "    .dataframe thead th {\n",
       "        text-align: right;\n",
       "    }\n",
       "</style>\n",
       "<table border=\"1\" class=\"dataframe\">\n",
       "  <thead>\n",
       "    <tr style=\"text-align: right;\">\n",
       "      <th></th>\n",
       "      <th>species</th>\n",
       "      <th>island</th>\n",
       "      <th>bill_length_mm</th>\n",
       "      <th>bill_depth_mm</th>\n",
       "      <th>flipper_length_mm</th>\n",
       "      <th>body_mass_g</th>\n",
       "      <th>sex</th>\n",
       "    </tr>\n",
       "  </thead>\n",
       "  <tbody>\n",
       "    <tr>\n",
       "      <th>0</th>\n",
       "      <td>Adelie</td>\n",
       "      <td>Torgersen</td>\n",
       "      <td>39.1</td>\n",
       "      <td>18.7</td>\n",
       "      <td>181.0</td>\n",
       "      <td>3750.0</td>\n",
       "      <td>MALE</td>\n",
       "    </tr>\n",
       "    <tr>\n",
       "      <th>1</th>\n",
       "      <td>Adelie</td>\n",
       "      <td>Torgersen</td>\n",
       "      <td>39.5</td>\n",
       "      <td>17.4</td>\n",
       "      <td>186.0</td>\n",
       "      <td>3800.0</td>\n",
       "      <td>FEMALE</td>\n",
       "    </tr>\n",
       "    <tr>\n",
       "      <th>2</th>\n",
       "      <td>Adelie</td>\n",
       "      <td>Torgersen</td>\n",
       "      <td>40.3</td>\n",
       "      <td>18.0</td>\n",
       "      <td>195.0</td>\n",
       "      <td>3250.0</td>\n",
       "      <td>FEMALE</td>\n",
       "    </tr>\n",
       "    <tr>\n",
       "      <th>3</th>\n",
       "      <td>Adelie</td>\n",
       "      <td>Torgersen</td>\n",
       "      <td>36.7</td>\n",
       "      <td>19.3</td>\n",
       "      <td>193.0</td>\n",
       "      <td>3450.0</td>\n",
       "      <td>FEMALE</td>\n",
       "    </tr>\n",
       "    <tr>\n",
       "      <th>4</th>\n",
       "      <td>Adelie</td>\n",
       "      <td>Torgersen</td>\n",
       "      <td>39.3</td>\n",
       "      <td>20.6</td>\n",
       "      <td>190.0</td>\n",
       "      <td>3650.0</td>\n",
       "      <td>MALE</td>\n",
       "    </tr>\n",
       "  </tbody>\n",
       "</table>\n",
       "</div>\n",
       "      <button class=\"colab-df-convert\" onclick=\"convertToInteractive('df-9b0d9ed1-a10c-4155-a287-077183906830')\"\n",
       "              title=\"Convert this dataframe to an interactive table.\"\n",
       "              style=\"display:none;\">\n",
       "        \n",
       "  <svg xmlns=\"http://www.w3.org/2000/svg\" height=\"24px\"viewBox=\"0 0 24 24\"\n",
       "       width=\"24px\">\n",
       "    <path d=\"M0 0h24v24H0V0z\" fill=\"none\"/>\n",
       "    <path d=\"M18.56 5.44l.94 2.06.94-2.06 2.06-.94-2.06-.94-.94-2.06-.94 2.06-2.06.94zm-11 1L8.5 8.5l.94-2.06 2.06-.94-2.06-.94L8.5 2.5l-.94 2.06-2.06.94zm10 10l.94 2.06.94-2.06 2.06-.94-2.06-.94-.94-2.06-.94 2.06-2.06.94z\"/><path d=\"M17.41 7.96l-1.37-1.37c-.4-.4-.92-.59-1.43-.59-.52 0-1.04.2-1.43.59L10.3 9.45l-7.72 7.72c-.78.78-.78 2.05 0 2.83L4 21.41c.39.39.9.59 1.41.59.51 0 1.02-.2 1.41-.59l7.78-7.78 2.81-2.81c.8-.78.8-2.07 0-2.86zM5.41 20L4 18.59l7.72-7.72 1.47 1.35L5.41 20z\"/>\n",
       "  </svg>\n",
       "      </button>\n",
       "      \n",
       "  <style>\n",
       "    .colab-df-container {\n",
       "      display:flex;\n",
       "      flex-wrap:wrap;\n",
       "      gap: 12px;\n",
       "    }\n",
       "\n",
       "    .colab-df-convert {\n",
       "      background-color: #E8F0FE;\n",
       "      border: none;\n",
       "      border-radius: 50%;\n",
       "      cursor: pointer;\n",
       "      display: none;\n",
       "      fill: #1967D2;\n",
       "      height: 32px;\n",
       "      padding: 0 0 0 0;\n",
       "      width: 32px;\n",
       "    }\n",
       "\n",
       "    .colab-df-convert:hover {\n",
       "      background-color: #E2EBFA;\n",
       "      box-shadow: 0px 1px 2px rgba(60, 64, 67, 0.3), 0px 1px 3px 1px rgba(60, 64, 67, 0.15);\n",
       "      fill: #174EA6;\n",
       "    }\n",
       "\n",
       "    [theme=dark] .colab-df-convert {\n",
       "      background-color: #3B4455;\n",
       "      fill: #D2E3FC;\n",
       "    }\n",
       "\n",
       "    [theme=dark] .colab-df-convert:hover {\n",
       "      background-color: #434B5C;\n",
       "      box-shadow: 0px 1px 3px 1px rgba(0, 0, 0, 0.15);\n",
       "      filter: drop-shadow(0px 1px 2px rgba(0, 0, 0, 0.3));\n",
       "      fill: #FFFFFF;\n",
       "    }\n",
       "  </style>\n",
       "\n",
       "      <script>\n",
       "        const buttonEl =\n",
       "          document.querySelector('#df-9b0d9ed1-a10c-4155-a287-077183906830 button.colab-df-convert');\n",
       "        buttonEl.style.display =\n",
       "          google.colab.kernel.accessAllowed ? 'block' : 'none';\n",
       "\n",
       "        async function convertToInteractive(key) {\n",
       "          const element = document.querySelector('#df-9b0d9ed1-a10c-4155-a287-077183906830');\n",
       "          const dataTable =\n",
       "            await google.colab.kernel.invokeFunction('convertToInteractive',\n",
       "                                                     [key], {});\n",
       "          if (!dataTable) return;\n",
       "\n",
       "          const docLinkHtml = 'Like what you see? Visit the ' +\n",
       "            '<a target=\"_blank\" href=https://colab.research.google.com/notebooks/data_table.ipynb>data table notebook</a>'\n",
       "            + ' to learn more about interactive tables.';\n",
       "          element.innerHTML = '';\n",
       "          dataTable['output_type'] = 'display_data';\n",
       "          await google.colab.output.renderOutput(dataTable, element);\n",
       "          const docLink = document.createElement('div');\n",
       "          docLink.innerHTML = docLinkHtml;\n",
       "          element.appendChild(docLink);\n",
       "        }\n",
       "      </script>\n",
       "    </div>\n",
       "  </div>\n",
       "  "
      ],
      "text/plain": [
       "  species     island  bill_length_mm  bill_depth_mm  flipper_length_mm  \\\n",
       "0  Adelie  Torgersen            39.1           18.7              181.0   \n",
       "1  Adelie  Torgersen            39.5           17.4              186.0   \n",
       "2  Adelie  Torgersen            40.3           18.0              195.0   \n",
       "3  Adelie  Torgersen            36.7           19.3              193.0   \n",
       "4  Adelie  Torgersen            39.3           20.6              190.0   \n",
       "\n",
       "   body_mass_g     sex  \n",
       "0       3750.0    MALE  \n",
       "1       3800.0  FEMALE  \n",
       "2       3250.0  FEMALE  \n",
       "3       3450.0  FEMALE  \n",
       "4       3650.0    MALE  "
      ]
     },
     "metadata": {},
     "output_type": "display_data"
    }
   ],
   "source": [
    "# DO NOT EDIT THIS CODE\n",
    "\n",
    "# Import the modules that we need for this task.\n",
    "import pandas as pd\n",
    "import matplotlib.pyplot as plt\n",
    "\n",
    "# This is the location of the penguin data file on the internet.\n",
    "PENGUINS_URL = 'https://gist.githubusercontent.com/anibali/c2abc8cab4a2f7b0a6518d11a67c693c/raw/3b1bb5264736bb762584104c9e7a828bef0f6ec8/penguins.csv'\n",
    "\n",
    "# Download the penguin data and turn it into a Pandas DataFrame object.\n",
    "df = pd.read_csv(PENGUINS_URL)\n",
    "\n",
    "# Display the first few rows of the DataFrame object.\n",
    "display(df.head())"
   ]
  },
  {
   "cell_type": "markdown",
   "metadata": {
    "id": "mduESzxlaziA"
   },
   "source": [
    "As you can see, the dataset consists of 7 columns. The species of penguin can be\n",
    "`Gentoo`, `Adelie`, or `Chinstrap`. The sex can be `MALE` or `FEMALE`.\n",
    "\n",
    "Your task is to produce a scatter plot which relates bill depth and flipper length for **Gentoo** penguins only, with data points separated by the sex of penguin. A successful solution should be identical to the example below, which clearly shows how these physical measurements are a good indicator of sex for Gentoo penguins. You can use whichever two colours for the points you like, provided that the two colours are not the same as each other."
   ]
  },
  {
   "cell_type": "markdown",
   "metadata": {
    "id": "MrekOYLBrEhx"
   },
   "source": [
    "![An example of expected Matplotlib output](data:image/png;base64,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)"
   ]
  },
  {
   "cell_type": "markdown",
   "metadata": {
    "id": "GMCWmYtGUjsh"
   },
   "source": [
    "#### Requirements\n",
    "To achieve full marks for this task, you must follow the instructions above when writing your solution. Additionally, your solution must adhere to the following requirements:\n",
    " - You **must** create two different DataFrames for male and female Gentoo penguins by _filtering_ the data appropriately (hint: you can create an intermediate DataFrame containing all Gentoo penguins first).\n",
    " - You **must not** plot any data for Adelie or Chinstrap penguins.\n",
    " - You **must** plot both sexes of penguin on the same graph, giving each data series an appropriate label.\n",
    " - You **must** give the plot a title, axis labels, and a legend."
   ]
  },
  {
   "cell_type": "markdown",
   "metadata": {
    "id": "MIUCTrUEFUPO"
   },
   "source": [
    "#### Your Solution"
   ]
  },
  {
   "cell_type": "code",
   "execution_count": null,
   "metadata": {
    "id": "JZo6J9kCFUPO"
   },
   "outputs": [],
   "source": [
    "# Write your solution here (don't forget to execute the code cell in the\n",
    "# Instructions section first)"
   ]
  },
  {
   "cell_type": "markdown",
   "metadata": {
    "id": "dGk6daNdlbCi"
   },
   "source": [
    "---"
   ]
  },
  {
   "cell_type": "markdown",
   "metadata": {
    "id": "Q95BwE3DWwao"
   },
   "source": [
    "## Resetting the Notebook Runtime\n",
    "Due to the nature of notebooks, old variables, classes and functions may still be accessible even after they have been removed from the code. This may result in unexpected program behaviour.\n",
    "\n",
    "To ensure that this isn't the case, you can reset the runtime to reset the Python interpreter state. After doing so, you should run your solutions again to ensure they function correctly.\n",
    "\n",
    "To reset the runtime, click the \"Runtime\" button in the menu at the top, then click \"Restart runtime\". Then, click \"yes\" in the following warning.\n",
    "\n",
    "![Restart_runtime.png](data:image/png;base64,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)\n",
    "\n",
    "![image.png](data:image/png;base64,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)"
   ]
  }
 ],
 "metadata": {
  "colab": {
   "collapsed_sections": [],
   "provenance": []
  },
  "kernelspec": {
   "display_name": "Python 3 (ipykernel)",
   "language": "python",
   "name": "python3"
  },
  "language_info": {
   "codemirror_mode": {
    "name": "ipython",
    "version": 3
   },
   "file_extension": ".py",
   "mimetype": "text/x-python",
   "name": "python",
   "nbconvert_exporter": "python",
   "pygments_lexer": "ipython3",
   "version": "3.8.10"
  }
 },
 "nbformat": 4,
 "nbformat_minor": 1
}
