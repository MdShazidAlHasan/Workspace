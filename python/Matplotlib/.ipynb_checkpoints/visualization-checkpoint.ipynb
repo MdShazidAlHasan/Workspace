{
 "cells": [
  {
   "cell_type": "markdown",
   "metadata": {},
   "source": [
    "<h1><center>Data Analysis & Visualization</center></h1>"
   ]
  },
  {
   "cell_type": "code",
   "execution_count": 1,
   "metadata": {},
   "outputs": [
    {
     "ename": "ModuleNotFoundError",
     "evalue": "No module named 'seaborn'",
     "output_type": "error",
     "traceback": [
      "\u001b[0;31m---------------------------------------------------------------------------\u001b[0m",
      "\u001b[0;31mModuleNotFoundError\u001b[0m                       Traceback (most recent call last)",
      "\u001b[0;32m/tmp/ipykernel_12381/3329070639.py\u001b[0m in \u001b[0;36m<module>\u001b[0;34m\u001b[0m\n\u001b[1;32m      2\u001b[0m \u001b[0;32mimport\u001b[0m \u001b[0mpandas\u001b[0m \u001b[0;32mas\u001b[0m \u001b[0mpd\u001b[0m\u001b[0;34m\u001b[0m\u001b[0;34m\u001b[0m\u001b[0m\n\u001b[1;32m      3\u001b[0m \u001b[0;32mimport\u001b[0m \u001b[0mmatplotlib\u001b[0m\u001b[0;34m.\u001b[0m\u001b[0mpyplot\u001b[0m \u001b[0;32mas\u001b[0m \u001b[0mplt\u001b[0m\u001b[0;34m\u001b[0m\u001b[0;34m\u001b[0m\u001b[0m\n\u001b[0;32m----> 4\u001b[0;31m \u001b[0;32mimport\u001b[0m \u001b[0mseaborn\u001b[0m \u001b[0;32mas\u001b[0m \u001b[0msns\u001b[0m\u001b[0;34m\u001b[0m\u001b[0;34m\u001b[0m\u001b[0m\n\u001b[0m\u001b[1;32m      5\u001b[0m \u001b[0;32mfrom\u001b[0m \u001b[0mpylab\u001b[0m \u001b[0;32mimport\u001b[0m \u001b[0mrcParams\u001b[0m\u001b[0;34m\u001b[0m\u001b[0;34m\u001b[0m\u001b[0m\n\u001b[1;32m      6\u001b[0m \u001b[0;34m\u001b[0m\u001b[0m\n",
      "\u001b[0;31mModuleNotFoundError\u001b[0m: No module named 'seaborn'"
     ]
    }
   ],
   "source": [
    "import numpy as np\n",
    "import pandas as pd\n",
    "import matplotlib.pyplot as plt\n",
    "import seaborn as sns\n",
    "from pylab import rcParams\n",
    "\n",
    "%matplotlib inline"
   ]
  },
  {
   "cell_type": "code",
   "execution_count": null,
   "metadata": {},
   "outputs": [],
   "source": [
    "df = pd.read_excel('data.xlsx')\n",
    "df"
   ]
  },
  {
   "cell_type": "markdown",
   "metadata": {},
   "source": [
    "## country and salary"
   ]
  },
  {
   "cell_type": "code",
   "execution_count": null,
   "metadata": {},
   "outputs": [],
   "source": [
    "df['native-country'].unique()"
   ]
  },
  {
   "cell_type": "code",
   "execution_count": null,
   "metadata": {},
   "outputs": [],
   "source": [
    "df['native-country'].replace(' ?',np.NaN,inplace=True)"
   ]
  },
  {
   "cell_type": "code",
   "execution_count": null,
   "metadata": {},
   "outputs": [],
   "source": [
    "df['salary'].unique()"
   ]
  },
  {
   "cell_type": "code",
   "execution_count": null,
   "metadata": {},
   "outputs": [],
   "source": [
    "salary_country = pd.crosstab(df['native-country'],df['salary']).reset_index().sort_values(by=[' <=50K'],ascending=False).head(5)\n",
    "salary_country"
   ]
  },
  {
   "cell_type": "code",
   "execution_count": null,
   "metadata": {},
   "outputs": [],
   "source": [
    "plt.figure(figsize=(12,9))\n",
    "plt.rcParams.update({'font.size':15})\n",
    "\n",
    "x = list(salary_country['native-country'].unique()) \n",
    "x_axis = np.arange(len(x))\n",
    "plt.bar(x_axis - 0.2, salary_country[' >50K'], 0.4, label = '>50k')\n",
    "plt.bar(x_axis + 0.2, salary_country[' <=50K'], 0.4, label = ' <=50K')\n",
    "plt.xticks(x_axis, x,rotation=90)\n",
    "plt.xlabel(\"country name\")\n",
    "plt.ylabel(\"Number of people\")\n",
    "plt.title(\"Number of people in top 5 country\")\n",
    "plt.legend();"
   ]
  },
  {
   "cell_type": "markdown",
   "metadata": {},
   "source": [
    "Based on the graph most people are from united-states and every countries most people have 50K or below 50k salary. This bar chart is choose because this chart is easy to read and easy to understand also when we have many category and we need to compare this bar chart is best."
   ]
  },
  {
   "cell_type": "markdown",
   "metadata": {},
   "source": [
    "## Race and salary"
   ]
  },
  {
   "cell_type": "code",
   "execution_count": null,
   "metadata": {},
   "outputs": [],
   "source": [
    "salary_race = pd.crosstab(df['race'],df['salary']).reset_index().sort_values(by=[' <=50K'],ascending=False)\n",
    "salary_race"
   ]
  },
  {
   "cell_type": "code",
   "execution_count": null,
   "metadata": {},
   "outputs": [],
   "source": [
    "plt.figure(figsize=(12,9))\n",
    "x = list(salary_race['race'].unique()) \n",
    "x_axis = np.arange(len(x))\n",
    "plt.bar(x_axis - 0.2, salary_race[' >50K'], 0.4, label = '>50k')\n",
    "plt.bar(x_axis + 0.2, salary_race[' <=50K'], 0.4, label = ' <=50K')\n",
    "plt.xticks(x_axis, x,rotation=90)\n",
    "plt.xlabel(\"Race\")\n",
    "plt.ylabel(\"Number of people\")\n",
    "plt.title(\"Number of people in each race\")\n",
    "plt.legend();"
   ]
  },
  {
   "cell_type": "markdown",
   "metadata": {},
   "source": [
    "Based on the graph most people are from white race and each race people's income is 50k or below 50K. This bar chart is choose because this chart is easy to read and easy to understand."
   ]
  },
  {
   "cell_type": "markdown",
   "metadata": {},
   "source": [
    "## Capital-gain and Salary"
   ]
  },
  {
   "cell_type": "code",
   "execution_count": null,
   "metadata": {},
   "outputs": [],
   "source": [
    "sns.boxplot(x = 'salary', y = 'capital-gain', data = df);"
   ]
  },
  {
   "cell_type": "markdown",
   "metadata": {},
   "source": [
    "Based on the graph whose salary is below <= 50k their capital-gain is between 0 to 50,000 and whose salary is above 50k their capital-gain is between 0 to 10,000. whose salary is above 50k their capital-gain has high variance. We choose boxplot because when we want to know about the spread of data there has no other chart as useful as this."
   ]
  },
  {
   "cell_type": "markdown",
   "metadata": {},
   "source": [
    "## Sex and Salary"
   ]
  },
  {
   "cell_type": "code",
   "execution_count": null,
   "metadata": {},
   "outputs": [],
   "source": [
    "below_50 = df[df['salary'] == \" <=50K\"]\n",
    "above_50 = df[df['salary'] == \" >50K\"]"
   ]
  },
  {
   "cell_type": "code",
   "execution_count": null,
   "metadata": {},
   "outputs": [],
   "source": [
    "below_50.shape,above_50.shape"
   ]
  },
  {
   "cell_type": "code",
   "execution_count": null,
   "metadata": {},
   "outputs": [],
   "source": [
    "below_50['sex'].unique()"
   ]
  },
  {
   "cell_type": "code",
   "execution_count": null,
   "metadata": {},
   "outputs": [],
   "source": [
    "# below 50 Data to plot\n",
    "labels = below_50['sex'].value_counts(sort = True).index\n",
    "sizes = below_50['sex'].value_counts(sort = True)\n",
    "\n",
    "colors = [\"lightblue\",\"red\"]\n",
    "explode = (0.05,0)  # explode 1st slice\n",
    " \n",
    "rcParams['figure.figsize'] = 7,7\n",
    "# Plot\n",
    "plt.pie(sizes, explode=explode, labels=labels, colors=colors, autopct='%1.1f%%', shadow=True, startangle=90,)\n",
    "\n",
    "plt.title('Sex ratio whose salary is below 50k',size = 15)\n",
    "plt.show()"
   ]
  },
  {
   "cell_type": "markdown",
   "metadata": {},
   "source": [
    "Based on the above pie chart 61.2% male receive below 50k salary and 38.8% female receive below 50k salary. We choose this chart because when we compare two category pie chart is the best option for us."
   ]
  },
  {
   "cell_type": "code",
   "execution_count": null,
   "metadata": {},
   "outputs": [],
   "source": [
    "# above 50 Data to plot\n",
    "labels = above_50['sex'].value_counts(sort = True).index\n",
    "sizes = above_50['sex'].value_counts(sort = True)\n",
    "\n",
    "colors = [\"lightblue\",\"red\"]\n",
    "explode = (0.05,0)  # explode 1st slice\n",
    " \n",
    "rcParams['figure.figsize'] = 7,7\n",
    "# Plot\n",
    "plt.pie(sizes, explode=explode, labels=labels, colors=colors, autopct='%1.1f%%', shadow=True, startangle=90,)\n",
    "\n",
    "plt.title('Sex ratio whose salary is above 50k',size = 15)\n",
    "plt.show()"
   ]
  },
  {
   "cell_type": "markdown",
   "metadata": {},
   "source": [
    "Based on the above pie chart 85% male receive above 50k salary and 15% female receive above 50k salary. when salary is above 50k the amount of male people are comparatively high. We choose this chart because when we compare two category pie chart is the best option for us."
   ]
  },
  {
   "cell_type": "markdown",
   "metadata": {},
   "source": [
    "## capital-loss and salary"
   ]
  },
  {
   "cell_type": "code",
   "execution_count": null,
   "metadata": {},
   "outputs": [],
   "source": [
    "sns.boxplot(x = 'salary', y = 'capital-loss', data = df);"
   ]
  },
  {
   "cell_type": "markdown",
   "metadata": {},
   "source": [
    "Based on the graph whose salary is below <= 50k their capital-loss is between 0 to above 4000 and whose salary is above 50k their capital-loss is between 0 to almost 3800. whose salary is below 50k their capital-loss has high variance. We choose boxplot because when we want to know about the spread of data there has no other chart as useful as this."
   ]
  },
  {
   "cell_type": "code",
   "execution_count": null,
   "metadata": {},
   "outputs": [],
   "source": [
    "df['sex'].unique()"
   ]
  },
  {
   "cell_type": "code",
   "execution_count": null,
   "metadata": {},
   "outputs": [],
   "source": [
    "df['salary'].unique()"
   ]
  },
  {
   "cell_type": "code",
   "execution_count": null,
   "metadata": {},
   "outputs": [],
   "source": [
    "df['sex_salary'] = df['sex'].astype(str) + df['salary'].astype(str)\n",
    "df.head()"
   ]
  },
  {
   "cell_type": "markdown",
   "metadata": {},
   "source": [
    "## age, salary and sex"
   ]
  },
  {
   "cell_type": "code",
   "execution_count": null,
   "metadata": {},
   "outputs": [],
   "source": [
    "age_sex_salary = df[['age','sex_salary']].groupby('sex_salary')['age'].mean().reset_index().sort_values(by='age',ascending = True)\n",
    "age_sex_salary"
   ]
  },
  {
   "cell_type": "code",
   "execution_count": null,
   "metadata": {},
   "outputs": [],
   "source": [
    "plt.barh( age_sex_salary[\"sex_salary\"],age_sex_salary[\"age\"])\n",
    "plt.xlabel('Average Age')\n",
    "plt.ylabel('Male and Female with salary');"
   ]
  },
  {
   "cell_type": "markdown",
   "metadata": {},
   "source": [
    "Based on the graph salary increase with age. Younger male and female get less salary compare to older male and femal. And male get a slightly high amount than female. we choose this horizontal bar chart because this chart is easy to read and understand the core information."
   ]
  },
  {
   "cell_type": "markdown",
   "metadata": {},
   "source": [
    "## hours-per-week, salary and sex"
   ]
  },
  {
   "cell_type": "code",
   "execution_count": null,
   "metadata": {},
   "outputs": [],
   "source": [
    "work_sex_salary = df[['hours-per-week','sex_salary']].groupby('sex_salary')['hours-per-week'].mean().reset_index().sort_values(by='hours-per-week',\n",
    "                                                                                                                              ascending = True)\n",
    "work_sex_salary"
   ]
  },
  {
   "cell_type": "code",
   "execution_count": null,
   "metadata": {},
   "outputs": [],
   "source": [
    "plt.barh( work_sex_salary[\"sex_salary\"],work_sex_salary[\"hours-per-week\"])\n",
    "plt.xlabel('Average work hour per week')\n",
    "plt.ylabel('Male and Female with salary');"
   ]
  },
  {
   "cell_type": "markdown",
   "metadata": {},
   "source": [
    "Based on the graph whose salary is higher they work more in week. And man work higher than woman to get the same amount of money. This horizontal bar graph is chosen because we can get a better understanding of data by following it. we choose this chart because this chart is easy to read and understand the core information."
   ]
  },
  {
   "cell_type": "markdown",
   "metadata": {},
   "source": [
    "## Marital-status and salary"
   ]
  },
  {
   "cell_type": "code",
   "execution_count": null,
   "metadata": {},
   "outputs": [],
   "source": [
    "plt.figure(figsize=(14,7))\n",
    "sns.countplot(x='salary', hue='marital-status', data=df)\n",
    "plt.title(\"Income based on Marital Status\");"
   ]
  },
  {
   "cell_type": "markdown",
   "metadata": {},
   "source": [
    "Based on the graph we can say whose income is 50k or below 50k they are either never married or married-civ-spouse. And whose income is above 50k they are married-civ-spouse. We chose this chart because without it we wouldn't be able to display this much information."
   ]
  },
  {
   "cell_type": "markdown",
   "metadata": {},
   "source": [
    "## Occupation and salary"
   ]
  },
  {
   "cell_type": "code",
   "execution_count": null,
   "metadata": {},
   "outputs": [],
   "source": [
    "df['occupation'].replace(' ?',np.NaN,inplace=True)"
   ]
  },
  {
   "cell_type": "code",
   "execution_count": null,
   "metadata": {},
   "outputs": [],
   "source": [
    "salary_occupation = pd.crosstab(df['occupation'],df['salary']).reset_index().sort_values(by=[' <=50K'],ascending=False)\n",
    "salary_occupation"
   ]
  },
  {
   "cell_type": "code",
   "execution_count": null,
   "metadata": {},
   "outputs": [],
   "source": [
    "plt.figure(figsize=(12,9))\n",
    "x = list(salary_occupation['occupation'].unique()) \n",
    "x_axis = np.arange(len(x))\n",
    "plt.bar(x_axis - 0.2, salary_occupation[' >50K'], 0.4, label = '>50k')\n",
    "plt.bar(x_axis + 0.2, salary_occupation[' <=50K'], 0.4, label = ' <=50K')\n",
    "plt.xticks(x_axis, x,rotation=90)\n",
    "plt.xlabel(\"Occupation\")\n",
    "plt.ylabel(\"Number of people\")\n",
    "plt.title(\"Income based on Occupation\")\n",
    "plt.legend();"
   ]
  },
  {
   "cell_type": "markdown",
   "metadata": {},
   "source": [
    "Based on the graph most people who get above 50k salary their occupation is Exec-managerial & Prof-specialty. and whose get 50k or below 50k salary they mostly work on Adm-clerical & Craft-repair occupation. This chart is easy to understand thats why we choose this chart to visualize the information."
   ]
  },
  {
   "cell_type": "markdown",
   "metadata": {},
   "source": [
    "## Hours per week, age and salary"
   ]
  },
  {
   "cell_type": "code",
   "execution_count": null,
   "metadata": {},
   "outputs": [],
   "source": [
    "plt.figure(figsize=(12,9))\n",
    "sns.scatterplot(x=df['hours-per-week'], y=df['age'], hue=df['salary'])\n",
    "plt.title('Income Based on Number of hours a person of certain age is working');"
   ]
  },
  {
   "cell_type": "markdown",
   "metadata": {},
   "source": [
    "Based on the graph younger people work less and they also income less compare to older people. When peoples age increase they work more hour to get high salary. This scatterplot is best to show the correlation between features thats why we choose this graph to visualize the information."
   ]
  },
  {
   "cell_type": "markdown",
   "metadata": {},
   "source": [
    "## work-class and salary"
   ]
  },
  {
   "cell_type": "code",
   "execution_count": null,
   "metadata": {},
   "outputs": [],
   "source": [
    "df['workclass'].replace(' ?',np.NaN,inplace=True)"
   ]
  },
  {
   "cell_type": "code",
   "execution_count": null,
   "metadata": {},
   "outputs": [],
   "source": [
    "salary_workclass = pd.crosstab(df['workclass'],df['salary']).reset_index().sort_values(by=[' <=50K'],ascending=False)\n",
    "salary_workclass"
   ]
  },
  {
   "cell_type": "code",
   "execution_count": null,
   "metadata": {},
   "outputs": [],
   "source": [
    "plt.figure(figsize=(12,9))\n",
    "x = list(salary_workclass['workclass'].unique()) \n",
    "x_axis = np.arange(len(x))\n",
    "plt.bar(x_axis - 0.2, salary_workclass[' >50K'], 0.4, label = '>50k')\n",
    "plt.bar(x_axis + 0.2, salary_workclass[' <=50K'], 0.4, label = ' <=50K')\n",
    "plt.xticks(x_axis, x,rotation=90)\n",
    "plt.xlabel(\"Work-Class\")\n",
    "plt.ylabel(\"Number of people\")\n",
    "plt.title(\"Income based on Work-class\")\n",
    "plt.legend();"
   ]
  },
  {
   "cell_type": "markdown",
   "metadata": {},
   "source": [
    "Based on the graph most people work on the private workplace. If people have self-emp-inc they can earn more compare to other work-class. Some people work on without-pay whose income is 50k or below 50k. When category is higher than 3 bar chart is more suitable to visualize the information thats why we choose this chart."
   ]
  },
  {
   "cell_type": "markdown",
   "metadata": {},
   "source": [
    "## Education and Salary"
   ]
  },
  {
   "cell_type": "code",
   "execution_count": null,
   "metadata": {},
   "outputs": [],
   "source": [
    "salary_education = pd.crosstab(df['education'],df['salary']).reset_index().sort_values(by=[' <=50K'],ascending=False)\n",
    "salary_education"
   ]
  },
  {
   "cell_type": "code",
   "execution_count": null,
   "metadata": {},
   "outputs": [],
   "source": [
    "plt.figure(figsize=(12,9))\n",
    "x = list(salary_education['education'].unique()) \n",
    "x_axis = np.arange(len(x))\n",
    "plt.bar(x_axis - 0.2, salary_education[' >50K'], 0.4, label = '>50k')\n",
    "plt.bar(x_axis + 0.2, salary_education[' <=50K'], 0.4, label = ' <=50K')\n",
    "plt.xticks(x_axis, x,rotation=90)\n",
    "plt.xlabel(\"Education\")\n",
    "plt.ylabel(\"Number of people\")\n",
    "plt.title(\"Income based on Education\")\n",
    "plt.legend();"
   ]
  },
  {
   "cell_type": "markdown",
   "metadata": {},
   "source": [
    "Based on the graph who have Masters, prof-school and doctorate they can earn more. And whose income is 50k or below 50k most people's education is HS-grad, some-college and bachelors. Educated people have comparatively higher incomes. We choose this chart cause there has many categories."
   ]
  },
  {
   "cell_type": "code",
   "execution_count": null,
   "metadata": {},
   "outputs": [],
   "source": []
  },
  {
   "cell_type": "code",
   "execution_count": null,
   "metadata": {},
   "outputs": [],
   "source": []
  }
 ],
 "metadata": {
  "kernelspec": {
   "display_name": "Python 3 (ipykernel)",
   "language": "python",
   "name": "python3"
  },
  "language_info": {
   "codemirror_mode": {
    "name": "ipython",
    "version": 3
   },
   "file_extension": ".py",
   "mimetype": "text/x-python",
   "name": "python",
   "nbconvert_exporter": "python",
   "pygments_lexer": "ipython3",
   "version": "3.8.10"
  }
 },
 "nbformat": 4,
 "nbformat_minor": 4
}
